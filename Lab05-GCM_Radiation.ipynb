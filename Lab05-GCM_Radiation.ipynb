{
 "cells": [
  {
   "cell_type": "markdown",
   "id": "cef1a4b5-b4a9-4e26-a015-38e7392f87c2",
   "metadata": {},
   "source": [
    "# Lab 5: Radiation in a Global Climate Model"
   ]
  },
  {
   "cell_type": "markdown",
   "id": "3074056f-824b-4cda-8662-23391d2f9e1e",
   "metadata": {},
   "source": [
    "The goals of this lab are to practice thinking like a climate modeller, and interpreting figures.\n",
    "\n",
    "Our science questions today are:\n",
    "- How do specific greenhouse gases affect the temperature profile of the atmosphere?\n",
    "- How does vertical motion in the atmosphere affect the radiative balance?\n",
    "\n",
    "In this lab, we will develop some tools that help us address that question quantitatively.\n",
    "\n",
    "We will build on our experience with the theoretical N-layer atmosphere from previous weeks.  We will plot and interpret **skew-T diagrams** for the atmosphere's vertical structure, use a more sophisticated **radiative transfer model**, and compute **instantaneous radiative forcing**."
   ]
  },
  {
   "cell_type": "markdown",
   "id": "5a23178b-a32d-447c-a2bf-ee67d129a63a",
   "metadata": {},
   "source": [
    "***\n",
    "Import data and helper functions to make skew-T diagrams throughout the lab:"
   ]
  },
  {
   "cell_type": "code",
   "execution_count": null,
   "id": "91c64fb0-fb3e-4c43-bb7e-50e149f7ff06",
   "metadata": {},
   "outputs": [],
   "source": [
    "#  This code is used just to create the skew-T plot of global, annual mean air temperature\n",
    "%matplotlib inline\n",
    "import numpy as np\n",
    "import matplotlib.pyplot as plt\n",
    "import xarray as xr\n",
    "from metpy.plots import SkewT  ## using a package called MetPy for skew-T functionality\n",
    "\n",
    "ncep_url = \"http://www.esrl.noaa.gov/psd/thredds/dodsC/Datasets/ncep.reanalysis.derived/\"\n",
    "ncep_air = xr.open_dataset( ncep_url + \"pressure/air.mon.1981-2010.ltm.nc\", use_cftime=True)\n",
    "#  Take global, annual average \n",
    "coslat = np.cos(np.deg2rad(ncep_air.lat))\n",
    "weight = coslat / coslat.mean(dim='lat')\n",
    "Tglobal = (ncep_air.air * weight).mean(dim=('lat','lon','time'))"
   ]
  },
  {
   "cell_type": "code",
   "execution_count": null,
   "id": "3f646adb-f033-4058-8551-de713cf52b2d",
   "metadata": {},
   "outputs": [],
   "source": [
    "def make_skewT():\n",
    "    fig = plt.figure(figsize=(9, 9))\n",
    "    skew = SkewT(fig, rotation=30)\n",
    "    skew.plot(Tglobal.level, Tglobal, color='black', linestyle='-', linewidth=2, label='Observations')\n",
    "    skew.ax.set_ylim(1050, 10)\n",
    "    skew.ax.set_xlim(-90, 45)\n",
    "    # Add the relevant special lines\n",
    "    skew.plot_dry_adiabats(linewidth=0.5)\n",
    "    skew.plot_moist_adiabats(linewidth=0.5)\n",
    "    #skew.plot_mixing_lines()\n",
    "    skew.ax.legend()\n",
    "    skew.ax.set_xlabel('Temperature (degC)', fontsize=14)\n",
    "    skew.ax.set_ylabel('Pressure (hPa)', fontsize=14)\n",
    "    return skew"
   ]
  },
  {
   "cell_type": "code",
   "execution_count": null,
   "id": "bbd9f70c-c0ee-4cda-8f76-b996bcf6f7b7",
   "metadata": {},
   "outputs": [],
   "source": [
    "skew = make_skewT()"
   ]
  },
  {
   "cell_type": "markdown",
   "id": "1aae2be0-aed7-466c-81c0-ceb8b77070f2",
   "metadata": {
    "tags": []
   },
   "source": [
    "---\n",
    "## Demonstration and skills practice\n",
    "You already reviewed some of your coding skills with the \"Function Fix-It\" exercises: defining named variables, functions, and default values.  I will demonstrate how to set up a Climlab instance with radiative transfer, and then with radiative-convective modules enabled."
   ]
  },
  {
   "cell_type": "markdown",
   "id": "1cfa695c-f06e-490d-a974-f611fc42ab79",
   "metadata": {},
   "source": [
    "---\n",
    "### 1. Setting up a radiative transfer model"
   ]
  },
  {
   "cell_type": "markdown",
   "id": "feef4a12-f0bd-4dbf-8933-43a258e4b6e2",
   "metadata": {
    "jp-MarkdownHeadingCollapsed": true,
    "tags": []
   },
   "source": [
    "We're going to use a model called the [Rapid Radiative Transfer Model](http://rtweb.aer.com/rrtm_frame.html) or RRTMG. This is a \"serious\" and widely-used radiation model, used in many comprehensive GCMs and Numerical Weather Prediction models, that accounts for the wavelength-dependent absorption properties of different gases.\n",
    "\n",
    "The Python package climlab provides an easy-to-use Python wrapper for the RRTMG code."
   ]
  },
  {
   "cell_type": "markdown",
   "id": "e5e4b0e7-caa6-48ec-b0a9-8a80741a4921",
   "metadata": {},
   "source": [
    "#### Creating the model instance"
   ]
  },
  {
   "cell_type": "code",
   "execution_count": null,
   "id": "ce02e103-ca11-4256-9a0a-db6745734012",
   "metadata": {},
   "outputs": [],
   "source": [
    "import climlab\n",
    "\n",
    "## Do a manual import of vertical levels and water vapor from CESM simulations\n",
    "## See https://brian-rose.github.io/ClimateLaboratoryBook/courseware/radeq.html#water-vapor-data\n",
    "lev_cesm = np.array([  3.544638,   7.388814,  13.967214,  23.944625,  37.23029 ,  53.114605,\n",
    "        70.05915 ,  85.439115, 100.514695, 118.250335, 139.115395, 163.66207 ,\n",
    "       192.539935, 226.513265, 266.481155, 313.501265, 368.81798 , 433.895225,\n",
    "       510.455255, 600.5242  , 696.79629 , 787.70206 , 867.16076 , 929.648875,\n",
    "       970.55483 , 992.5561  ])\n",
    "\n",
    "qglobal_spec_humid = np.array([2.16104904e-06, 2.15879387e-06, 2.15121262e-06, 2.13630949e-06,\n",
    "       2.12163684e-06, 2.11168002e-06, 2.09396914e-06, 2.10589390e-06,\n",
    "       2.42166155e-06, 3.12595653e-06, 5.01369691e-06, 9.60746488e-06,\n",
    "       2.08907654e-05, 4.78823747e-05, 1.05492451e-04, 2.11889055e-04,\n",
    "       3.94176751e-04, 7.10734458e-04, 1.34192099e-03, 2.05153261e-03,\n",
    "       3.16844784e-03, 4.96883408e-03, 6.62218037e-03, 8.38350326e-03,\n",
    "       9.38620899e-03, 9.65030544e-03])"
   ]
  },
  {
   "cell_type": "code",
   "execution_count": null,
   "id": "359442a5-35a6-4ed6-bd71-5f6ceccc3d30",
   "metadata": {},
   "outputs": [],
   "source": [
    "#  Make a model on same vertical domain as CESM\n",
    "mystate = climlab.column_state(lev=lev_cesm, water_depth=2.5)\n",
    "mystate"
   ]
  },
  {
   "cell_type": "code",
   "execution_count": null,
   "id": "44cf2507-eab7-43ab-ba9c-e89c9a22f4cf",
   "metadata": {},
   "outputs": [],
   "source": [
    "## Give it a radiation model\n",
    "radmodel = climlab.radiation.RRTMG(name='Radiation (all gases)',  # give our model a name!\n",
    "                              state=mystate,   # give our model an initial condition!\n",
    "                              specific_humidity=qglobal_spec_humid,  # tell the model how much water vapor there is\n",
    "                              albedo = 0.25,  # this the SURFACE shortwave albedo\n",
    "                              timestep = climlab.constants.seconds_per_day,  # set the timestep to one day (measured in seconds)\n",
    "                             )\n",
    "radmodel"
   ]
  },
  {
   "cell_type": "markdown",
   "id": "3997bca1-5199-4a6a-84d5-feee48e87841",
   "metadata": {},
   "source": [
    "Let's look at what we've put together.  We have an object called `radmodel` that has a vertical structure with temperature profile, water vapor, an albedo, and radiatively active gases.  You can inspect the initial state, where $T_s$ describes the surface temperature and $T_{atm}$ the atmospheric temperatures varying with height. "
   ]
  },
  {
   "cell_type": "code",
   "execution_count": null,
   "id": "4158844f-6b32-4b04-b182-402b81114dc8",
   "metadata": {},
   "outputs": [],
   "source": [
    "#  Here's the state dictionary we already created:\n",
    "radmodel.state"
   ]
  },
  {
   "cell_type": "code",
   "execution_count": null,
   "id": "ca755b64-5a09-4c62-b6d3-3f32814dfd58",
   "metadata": {},
   "outputs": [],
   "source": [
    "#  Here are the pressure levels in hPa\n",
    "radmodel.lev"
   ]
  },
  {
   "cell_type": "markdown",
   "id": "c788d2b0-087a-42ee-9a93-bf4c983ad7ba",
   "metadata": {},
   "source": [
    "And, very importantly: **`radmodel` has specified concentrations of greenhouse gases**, stored in the attribute `absorber_vmr`."
   ]
  },
  {
   "cell_type": "code",
   "execution_count": null,
   "id": "3ca4bd7b-b88f-4c7a-9dc7-f3de1b0ede3b",
   "metadata": {},
   "outputs": [],
   "source": [
    "radmodel.absorber_vmr"
   ]
  },
  {
   "cell_type": "markdown",
   "id": "d548700f-b2d3-4787-8392-cb9823265291",
   "metadata": {},
   "source": [
    "Most are just a single number because they are assumed to be well mixed in the atmosphere.  For example, let's look at CO2 concentration in ppm."
   ]
  },
  {
   "cell_type": "code",
   "execution_count": null,
   "id": "3d083e86-780a-4172-ac16-7e41a69bfc79",
   "metadata": {},
   "outputs": [],
   "source": [
    "#  E.g. the CO2 content (a well-mixed gas) in parts per million\n",
    "radmodel.absorber_vmr['CO2'] * 1E6"
   ]
  },
  {
   "cell_type": "markdown",
   "id": "c61d0576-5a86-4f8f-baff-3f708a05bd44",
   "metadata": {},
   "source": [
    "##### *Discuss:*\n",
    "Inspect the greenhouse gases in our model.  \n",
    "   - a. What greenhouse gases are present?\n",
    "   - b. What is their concentration?\n",
    "   - c. Which gases that we've discussed are not included in the `absorber_vmr` set?"
   ]
  },
  {
   "cell_type": "code",
   "execution_count": null,
   "id": "1fc2f8c9-90e3-407b-8069-40c628323b6e",
   "metadata": {},
   "outputs": [],
   "source": [
    "## live code to inspect GHGs here"
   ]
  },
  {
   "cell_type": "markdown",
   "id": "b95ae5e4-e312-4644-b541-0a58641e76a5",
   "metadata": {},
   "source": [
    "*...your notes here...*"
   ]
  },
  {
   "cell_type": "markdown",
   "id": "8c565069-9904-44e0-b8a5-820b29c0c6ac",
   "metadata": {},
   "source": [
    "#### Plot the ozone profile\n",
    "Recall that we talked about the important vertical structure of ozone: O$_3$ hangs out in the upper atmosphere and shields us from UV up there, but has changing concentrations (and effects) in the lower atmosphere due to pollution.  For this reason, we set up our model with a specific vertical profile of ozone, unlike the greenhouse gases that we assume are well-mixed to a uniform concentration.\n",
    "\n",
    "Let's make a plot to look at the vertical profile of O$_3$.\n",
    "\n",
    "First, confirm that we have some data available to plot.  We should see two arrays of the same shape; if not, there is a problem."
   ]
  },
  {
   "cell_type": "code",
   "execution_count": null,
   "id": "d9555fc0-0bd9-4773-8088-e1a265430522",
   "metadata": {},
   "outputs": [],
   "source": [
    "# here is the data we need for the plot, as plain numpy arrays:\n",
    "print(radmodel.lev)\n",
    "print(radmodel.absorber_vmr['O3'])"
   ]
  },
  {
   "cell_type": "code",
   "execution_count": null,
   "id": "a9e63558-f516-479d-a54f-c99e8cf0c7d1",
   "metadata": {},
   "outputs": [],
   "source": [
    "## make a simple plot\n",
    "fig, ax = plt.subplots()\n",
    "ax.plot(1E6*radmodel.absorber_vmr['O3'], radmodel.lev)\n",
    "ax.invert_yaxis() ## higher pressure closer to surface\n",
    "ax.set(yscale='log', ## log scale for more accurate spatial view\n",
    "       ylabel='Pressure (hPa)',\n",
    "       xlabel='Ozone (ppm)')\n",
    "ax.grid()"
   ]
  },
  {
   "cell_type": "markdown",
   "id": "723b1795-f67e-4b93-8fb8-28cbc2d5ca42",
   "metadata": {},
   "source": [
    "#### Water vapor"
   ]
  },
  {
   "cell_type": "markdown",
   "id": "cf38701c-08bd-45be-b6f0-91f477d7d459",
   "metadata": {},
   "source": [
    "The other gas that gets special treatment is water vapor.  You may have noticed it is not included in the `radmodel.absorber_vmr` list.  That's because we need water vapor for other climate processes, like precipitation, that are handled separately in the model.  The radiative transfer model still knows there is water vapor, stored in the form of specific humidity at each pressure level:"
   ]
  },
  {
   "cell_type": "code",
   "execution_count": null,
   "id": "b75eae4d-9d8e-4195-a52e-fd251b9069a2",
   "metadata": {},
   "outputs": [],
   "source": [
    "#  specific humidity in kg/kg, on the same pressure axis\n",
    "radmodel.specific_humidity"
   ]
  },
  {
   "cell_type": "markdown",
   "id": "34b65c78-f95a-4269-b081-eeb3737896ab",
   "metadata": {},
   "source": [
    "---\n",
    "### 2. Running to equilibrium with `while`"
   ]
  },
  {
   "cell_type": "markdown",
   "id": "83cab368-ef37-4641-bde8-1493e041e034",
   "metadata": {},
   "source": [
    "Now we are going to let the model run forward in time with these initial greenhouse gas concentrations.\n",
    "\n",
    "Here are the initial conditions for temperature at the surface and in the atmosphere:"
   ]
  },
  {
   "cell_type": "code",
   "execution_count": null,
   "id": "48dc0551-9114-4a46-be77-6cf3929363c2",
   "metadata": {},
   "outputs": [],
   "source": [
    "radmodel.Ts"
   ]
  },
  {
   "cell_type": "code",
   "execution_count": null,
   "id": "cf7bacf9-d974-44df-9a0a-f4dd2f7232cc",
   "metadata": {},
   "outputs": [],
   "source": [
    "radmodel.Tatm"
   ]
  },
  {
   "cell_type": "markdown",
   "id": "bf8de329-a5c4-42ae-94ae-a280e2687c77",
   "metadata": {},
   "source": [
    "Now let's take a single time step forward and see what happens."
   ]
  },
  {
   "cell_type": "code",
   "execution_count": null,
   "id": "85a2a11c-bd24-473e-90f8-d3054d83029e",
   "metadata": {},
   "outputs": [],
   "source": [
    "radmodel.step_forward()"
   ]
  },
  {
   "cell_type": "code",
   "execution_count": null,
   "id": "40872818-ab69-4145-a78d-62c64b370108",
   "metadata": {},
   "outputs": [],
   "source": [
    "radmodel.Ts ## inspect the surface temperature"
   ]
  },
  {
   "cell_type": "markdown",
   "id": "dd6cc2ec-218a-4c4d-99a2-be952e228681",
   "metadata": {},
   "source": [
    "**Do you suppose this system is in radiative equilibrium?**"
   ]
  },
  {
   "cell_type": "markdown",
   "id": "69b2255c-7671-4db7-8dc4-15cf8f38eeb7",
   "metadata": {},
   "source": [
    "The main job of the radiative transfer model, which we will not get into in detail here, is to track the shortwave and longwave fluxes up and down between each model layer, accounting for differences across wavelength.  Think of it like a more sophisticated and automated version of our N-layer model, tracking the beams of radiation from surface to top of atmosphere.\n",
    "\n",
    "We can use `radmodel` to tell us about the radiative balance at the top of the atmosphere, like so:"
   ]
  },
  {
   "cell_type": "code",
   "execution_count": null,
   "id": "21164516-2e29-4f37-aeb5-71717c6cb041",
   "metadata": {},
   "outputs": [],
   "source": [
    "radmodel.ASR - radmodel.OLR"
   ]
  },
  {
   "cell_type": "markdown",
   "id": "80558db4-7ed2-4d73-bbe3-038b6830f789",
   "metadata": {},
   "source": [
    "To approach radiative equilibrium, we want to step forward in time until the model is very close to energy balance.\n",
    "\n",
    "We can use a `while` loop, which will run until the top-of-atmosphere imbalance is less than or equal to 0.01 W/m$^2$:"
   ]
  },
  {
   "cell_type": "code",
   "execution_count": null,
   "id": "dc96f659",
   "metadata": {},
   "outputs": [],
   "source": [
    "while np.abs(radmodel.ASR - radmodel.OLR) > 0.01: ## as long as this difference is notable\n",
    "    radmodel.step_forward() ## keep updating"
   ]
  },
  {
   "cell_type": "markdown",
   "id": "c3212f5a-802c-4646-885c-dfc1834e3ab9",
   "metadata": {},
   "source": [
    "When the while loop has completed, we should be close to radiative equilibrium, and the energy imbalance should be small.  Check again:"
   ]
  },
  {
   "cell_type": "code",
   "execution_count": null,
   "id": "a8a423eb",
   "metadata": {},
   "outputs": [],
   "source": [
    "#  Check the energy budget again\n",
    "radmodel.ASR - radmodel.OLR"
   ]
  },
  {
   "cell_type": "markdown",
   "id": "79147c92-27b7-4f59-99be-73bd19218506",
   "metadata": {},
   "source": [
    "Note that these model attributes are updated \"in place\" as the model runs -- they are re-set to their most up-to-date value with every time step."
   ]
  },
  {
   "cell_type": "markdown",
   "id": "15a82754-520a-44a1-8795-37992ab7ee7c",
   "metadata": {},
   "source": [
    "#### Compare to observations\n",
    "We will compare the thermal profile created by the radiative model with the observed atmospheric temperature profile.  Here we define a helper function to add a vertical profile from a model onto a skew-T."
   ]
  },
  {
   "cell_type": "code",
   "execution_count": null,
   "id": "837fc2a5",
   "metadata": {},
   "outputs": [],
   "source": [
    "def add_profile(skew_fig, model, linestyle='-', color=None):\n",
    "    line = skew_fig.plot(model.lev, model.Tatm - climlab.constants.tempCtoK,\n",
    "             label=model.name, linewidth=2)[0]\n",
    "    skew_fig.plot(1000, model.Ts - climlab.constants.tempCtoK, 'o', \n",
    "              markersize=8, color=line.get_color())\n",
    "    skew_fig.ax.legend()"
   ]
  },
  {
   "cell_type": "code",
   "execution_count": null,
   "id": "64280a15",
   "metadata": {},
   "outputs": [],
   "source": [
    "skew = make_skewT()\n",
    "add_profile(skew, radmodel)\n",
    "skew.ax.set_title('Pure radiative equilibrium', fontsize=18);"
   ]
  },
  {
   "cell_type": "markdown",
   "id": "9cc49155-ae6c-40b5-9691-0f5017c455af",
   "metadata": {},
   "source": [
    "---\n",
    "### 3. Setting up a radiative-convective model"
   ]
  },
  {
   "cell_type": "markdown",
   "id": "ac6ea95f-cc0d-461c-984f-6ce8e64603c6",
   "metadata": {},
   "source": [
    "You saw in the radiative equilibrium profiles above that purely radiative balance did not reproduce the observed temperature profile in Earth's atmosphere.  \n",
    "\n",
    "*Vertical motion (convection)* is another way heat is redistributed in the atmosphere.  We have not yet talked in detail about how convection works -- stay tuned! -- but we can use climlab to build a model that accounts for convection too.\n",
    "\n",
    "Climlab gives us an easy way to replicate a model so that we can change one or more features and make a direct comparison.  This tool is called `climlab.process_like()`.  We use it here to copy the radiative model and add convection to it."
   ]
  },
  {
   "cell_type": "code",
   "execution_count": 117,
   "id": "11badaed",
   "metadata": {},
   "outputs": [],
   "source": [
    "newrad = climlab.process_like(radmodel)\n",
    "\n",
    "#  Now create the convection model\n",
    "conv = climlab.convection.ConvectiveAdjustment(name='Convection',\n",
    "                                               state=newrad.state,\n",
    "                                               adj_lapse_rate=6.5,\n",
    "                                               timestep=newrad.timestep,\n",
    "                                              )\n",
    "#  Here is where we build the model by coupling together the two components - letting them interact\n",
    "rcm = climlab.couple([newrad, conv], name='Radiative-Convective Model')"
   ]
  },
  {
   "cell_type": "markdown",
   "id": "2704b97b-d2a3-4639-acf9-4c6bd2ad0348",
   "metadata": {},
   "source": [
    "Integrate for a few years to approach equilibrium."
   ]
  },
  {
   "cell_type": "code",
   "execution_count": null,
   "id": "f62b2476",
   "metadata": {},
   "outputs": [],
   "source": [
    "rcm.integrate_years(5)"
   ]
  },
  {
   "cell_type": "code",
   "execution_count": null,
   "id": "85dd0e38",
   "metadata": {},
   "outputs": [],
   "source": [
    "## Check it\n",
    "rcm.ASR - rcm.OLR"
   ]
  },
  {
   "cell_type": "code",
   "execution_count": null,
   "id": "6d3fe0af-3cb1-4a5e-a4bc-a4d2e3741ecc",
   "metadata": {},
   "outputs": [],
   "source": [
    "skew = make_skewT()\n",
    "for model in [radmodel, rcm]:\n",
    "    add_profile(skew, model)"
   ]
  },
  {
   "cell_type": "markdown",
   "id": "0e0c8c26-7f50-47f9-b052-55b92cc8ab0d",
   "metadata": {},
   "source": [
    "The skew-T plot above shows that the radiative-convective model does indeed get closer to the observed temperature profile."
   ]
  },
  {
   "cell_type": "markdown",
   "id": "0e906a5b-d7a1-4e22-b6f5-d0d0f96bd002",
   "metadata": {},
   "source": [
    "---\n",
    "### 4. Model clones\n",
    "Models are for experimenting and playing with!\n",
    "\n",
    "We have just built a single-column radiative-convective model with several different absorbing gases. *We can learn about their effects by changing their concentration.*  We'll look at water vapor here.\n",
    "\n",
    "We will use `process_like()` again to clone our model, this time with the intention to modify the water vapor."
   ]
  },
  {
   "cell_type": "code",
   "execution_count": null,
   "id": "f3e62fce",
   "metadata": {},
   "outputs": [],
   "source": [
    "# Make an exact clone with same temperatures\n",
    "rcm_noH2O = climlab.process_like(rcm)\n",
    "rcm_noH2O.name = 'Radiative-Convective Model (No H2O)'"
   ]
  },
  {
   "cell_type": "markdown",
   "id": "e492dcff-dee2-406e-91be-0a875f750ecf",
   "metadata": {},
   "source": [
    "Check the specific humidity:"
   ]
  },
  {
   "cell_type": "code",
   "execution_count": null,
   "id": "bdbb8cb6",
   "metadata": {},
   "outputs": [],
   "source": [
    "#  Check to see that we indeed have the same H2O\n",
    "rcm_noH2O.specific_humidity == rcm.specific_humidity"
   ]
  },
  {
   "cell_type": "markdown",
   "id": "db430f12-92ad-4587-89cb-86d4c3446dd0",
   "metadata": {},
   "source": [
    "Now remove it!"
   ]
  },
  {
   "cell_type": "code",
   "execution_count": null,
   "id": "2f91f127",
   "metadata": {},
   "outputs": [],
   "source": [
    "rcm_noH2O.specific_humidity *= 0"
   ]
  },
  {
   "cell_type": "markdown",
   "id": "98e2863f-9716-40e6-84e7-d927f2c6f0f3",
   "metadata": {},
   "source": [
    "#### Find the radiative forcing from the model diagnostics"
   ]
  },
  {
   "cell_type": "markdown",
   "id": "ac4287fe-afcc-4196-a6f7-d795c193a765",
   "metadata": {},
   "source": [
    "The simplest measure of radiative forcing is the instantaneous change in the energy budget before the temperatures have a chance to adjust.  \n",
    "\n",
    "The model is keeping track of the energy budget for us. To get this we need to call the `compute_diagnostics()` method (but no forward timestep)."
   ]
  },
  {
   "cell_type": "code",
   "execution_count": null,
   "id": "19e638f6-d755-4444-9385-1b76c320f276",
   "metadata": {},
   "outputs": [],
   "source": [
    "rcm_noH2O.compute_diagnostics()"
   ]
  },
  {
   "cell_type": "markdown",
   "id": "abaf1a82-fadc-4fc0-b4dc-e9b4176011b9",
   "metadata": {},
   "source": [
    "Now take a look at the changes in the SW and LW budgets between the original and the 2xCO2 case:"
   ]
  },
  {
   "cell_type": "code",
   "execution_count": null,
   "id": "f22b856c-5492-46f7-a0cd-33810b7037b8",
   "metadata": {},
   "outputs": [],
   "source": [
    "rcm_noH2O.ASR - rcm.ASR"
   ]
  },
  {
   "cell_type": "code",
   "execution_count": null,
   "id": "7de07fe7-820b-4ac5-9ac8-bb534a6752fa",
   "metadata": {},
   "outputs": [],
   "source": [
    "rcm_noH2O.OLR - rcm.OLR"
   ]
  },
  {
   "cell_type": "markdown",
   "id": "faa9313a-cd01-4cda-a93d-5a1f313ab91f",
   "metadata": {},
   "source": [
    "And we can find the **instantaneous radiative forcing** of removing water vapor, before any temperature response:"
   ]
  },
  {
   "cell_type": "code",
   "execution_count": null,
   "id": "1c606f35-79d2-4d6c-8a7a-be3cc624ad5f",
   "metadata": {},
   "outputs": [],
   "source": [
    "DeltaR_instant = (rcm_noH2O.ASR - rcm_noH2O.OLR) - (rcm.ASR - rcm.OLR)\n",
    "DeltaR_instant"
   ]
  },
  {
   "cell_type": "markdown",
   "id": "5ece3150-6bb0-44ba-847b-2ee857305cde",
   "metadata": {},
   "source": [
    "We run to equilibrium and examine what the temperature profile would look like in this case."
   ]
  },
  {
   "cell_type": "code",
   "execution_count": null,
   "id": "96de8ce3-a61e-47f9-b2d1-90f2c78b5122",
   "metadata": {},
   "outputs": [],
   "source": [
    "while abs(rcm_noH2O.ASR - rcm_noH2O.OLR) > 0.01:\n",
    "    rcm_noH2O.step_forward()"
   ]
  },
  {
   "cell_type": "code",
   "execution_count": null,
   "id": "f1cac1e6-a044-4796-8887-bc28d844f8ad",
   "metadata": {},
   "outputs": [],
   "source": [
    "skew = make_skewT()\n",
    "for model in [rcm, rcm_noH2O]:\n",
    "    add_profile(skew, model)"
   ]
  },
  {
   "cell_type": "markdown",
   "id": "d33e1712-8d4f-417b-854f-1e4127a75e14",
   "metadata": {},
   "source": [
    "We're going to use a model called the [Rapid Radiative Transfer Model](http://rtweb.aer.com/rrtm_frame.html) or RRTMG. This is a \"serious\" and widely-used radiation model, used in many comprehensive GCMs and Numerical Weather Prediction models.\n",
    "\n",
    "climlab provides an easy-to-use Python wrapper for the RRTMG code."
   ]
  },
  {
   "cell_type": "markdown",
   "id": "1dd67717-b3a6-44fb-b98c-4da366c14098",
   "metadata": {},
   "source": [
    "### Creating the model instance"
   ]
  },
  {
   "cell_type": "code",
   "execution_count": null,
   "id": "7b8c761b-3b97-4a29-9999-d5ff9931318b",
   "metadata": {},
   "outputs": [],
   "source": [
    "import climlab\n",
    "\n",
    "## Do a hacky import of vertical levels and water vapor from CESM simulations\n",
    "## See https://brian-rose.github.io/ClimateLaboratoryBook/courseware/radeq.html#water-vapor-data\n",
    "lev_cesm = np.array([  3.544638,   7.388814,  13.967214,  23.944625,  37.23029 ,  53.114605,\n",
    "        70.05915 ,  85.439115, 100.514695, 118.250335, 139.115395, 163.66207 ,\n",
    "       192.539935, 226.513265, 266.481155, 313.501265, 368.81798 , 433.895225,\n",
    "       510.455255, 600.5242  , 696.79629 , 787.70206 , 867.16076 , 929.648875,\n",
    "       970.55483 , 992.5561  ])\n",
    "\n",
    "qglobal_spec_humid = np.array([2.16104904e-06, 2.15879387e-06, 2.15121262e-06, 2.13630949e-06,\n",
    "       2.12163684e-06, 2.11168002e-06, 2.09396914e-06, 2.10589390e-06,\n",
    "       2.42166155e-06, 3.12595653e-06, 5.01369691e-06, 9.60746488e-06,\n",
    "       2.08907654e-05, 4.78823747e-05, 1.05492451e-04, 2.11889055e-04,\n",
    "       3.94176751e-04, 7.10734458e-04, 1.34192099e-03, 2.05153261e-03,\n",
    "       3.16844784e-03, 4.96883408e-03, 6.62218037e-03, 8.38350326e-03,\n",
    "       9.38620899e-03, 9.65030544e-03])"
   ]
  },
  {
   "cell_type": "code",
   "execution_count": null,
   "id": "21b433f7-4c96-42af-b01f-302d6b7ee413",
   "metadata": {},
   "outputs": [],
   "source": [
    "#  Make a model on same vertical domain as CESM\n",
    "mystate = climlab.column_state(lev=lev_cesm, water_depth=2.5)\n",
    "mystate"
   ]
  },
  {
   "cell_type": "code",
   "execution_count": null,
   "id": "b0fb86dd-f8c5-43ac-a3fe-ae1b27aae2ee",
   "metadata": {},
   "outputs": [],
   "source": [
    "## Give it a radiation model\n",
    "radmodel = climlab.radiation.RRTMG(name='Radiation (all gases)',  # give our model a name!\n",
    "                              state=mystate,   # give our model an initial condition!\n",
    "                              specific_humidity=qglobal_spec_humid,  # tell the model how much water vapor there is\n",
    "                              albedo = 0.25,  # this the SURFACE shortwave albedo\n",
    "                              timestep = climlab.constants.seconds_per_day,  # set the timestep to one day (measured in seconds)\n",
    "                             )\n",
    "radmodel"
   ]
  },
  {
   "cell_type": "markdown",
   "id": "a85a31b1-5522-41f3-8981-064b175f16da",
   "metadata": {},
   "source": [
    "Let's look at what we've put together.  We have an object called `radmodel` that has a vertical structure with temperature profile, water vapor, an albedo, and radiatively active gases.  You can inspect the initial state: $T_s$ for the surface temperature and $T_{atm}$ for atmospheric temperatures varying with height. "
   ]
  },
  {
   "cell_type": "code",
   "execution_count": null,
   "id": "d8de78e4-32f9-4516-bf3a-67ee83cb94b5",
   "metadata": {},
   "outputs": [],
   "source": [
    "#  Here's the state dictionary we already created:\n",
    "radmodel.state"
   ]
  },
  {
   "cell_type": "code",
   "execution_count": null,
   "id": "a1bb97f9-a3ad-4b36-b037-85098bc3e37b",
   "metadata": {},
   "outputs": [],
   "source": [
    "#  Here are the pressure levels in hPa\n",
    "radmodel.lev"
   ]
  },
  {
   "cell_type": "markdown",
   "id": "7d102993-cc84-4e81-9e49-c696dd66e672",
   "metadata": {},
   "source": [
    "And, very importantly: **`radmodel` has specified concentrations of greenhouse gases**, stored in the attribute `absorber_vmr`"
   ]
  },
  {
   "cell_type": "code",
   "execution_count": null,
   "id": "62321da3-2b30-4372-a83e-38b30db88a38",
   "metadata": {},
   "outputs": [],
   "source": [
    "radmodel.absorber_vmr"
   ]
  },
  {
   "cell_type": "markdown",
   "id": "497ca671-e30f-4bcb-9cda-91213fa4a2ce",
   "metadata": {},
   "source": [
    "Most are just a single number because they are assumed to be well mixed in the atmosphere.  For example, let's look at CO2 concentration in ppm."
   ]
  },
  {
   "cell_type": "code",
   "execution_count": null,
   "id": "fe658d52-b06a-4c22-85d7-628f655eb8b4",
   "metadata": {},
   "outputs": [],
   "source": [
    "#  E.g. the CO2 content (a well-mixed gas) in parts per million\n",
    "radmodel.absorber_vmr['CO2'] * 1E6"
   ]
  },
  {
   "cell_type": "markdown",
   "id": "50fcdb28-3f72-44da-8ca5-47d4afddb5e1",
   "metadata": {},
   "source": [
    "---\n",
    "### Double CO2 concentration in the radiative model"
   ]
  },
  {
   "cell_type": "markdown",
   "id": "deeca9a6-1d10-497e-b629-fac92e4e23fd",
   "metadata": {},
   "source": [
    "---\n",
    "### Add convection"
   ]
  },
  {
   "cell_type": "markdown",
   "id": "129e5278-571e-4935-a987-bd3b82a3cfa8",
   "metadata": {},
   "source": [
    "---\n",
    "## Part 2: Lab procedure"
   ]
  },
  {
   "cell_type": "markdown",
   "id": "346a010b-c3a9-4cd8-a3ee-1616750bd4c0",
   "metadata": {},
   "source": [
    "1. Set up a **radiative-convective** model instance called `my_rcm`.  Assign it the same vertical levels, initial specific humidity, climate state, and convective module as the base example.  Run it forward for 5 years.  Check whether it is close to energy balance.\n",
    "2. Use `climlab.process_like(...)` to make a model clone of `my_rcm`.  Set the `.name` attribute of the model clone to 'Radiation (Double CO2)' and double its CO$_2$ concentration\n",
    "    - Note: the CO2 concentration is in the radiation module of your model instance, which you access using `model_name.subprocess[name_of_subprocess]`\n",
    "3. Use `compute_diagnostics` to compute the *instantaneous radiative forcing* of this change in the model.\n",
    "4. Run the model forward to equilibrium.  Compare its vertical temperature profile with `my_rcm` and with observations on a skew-T diagram.\n",
    "    - Interpret: What happens to the temperature in the lower atmosphere as a result of doubling CO$_2$?  What about the upper atmosphere?\n",
    "5. Describe how you would use the tools from this lab to investigate the role of convection in shaping the atmospheric response to greenhouse gases.  Time allowing: try it!\n",
    "    "
   ]
  },
  {
   "cell_type": "code",
   "execution_count": null,
   "id": "09143472-7038-4bfe-9347-549c62520bb0",
   "metadata": {},
   "outputs": [],
   "source": [
    "## add code and markdown cells here to complete the lab"
   ]
  },
  {
   "cell_type": "markdown",
   "id": "4da27da6-c8fe-4096-b2e5-c5fb44b07af2",
   "metadata": {},
   "source": [
    "---\n",
    "## Endnotes\n",
    "- This [National Weather Service interactive](https://www.weather.gov/jetstream/skewt) will help orient you to the lines included on a skew-T diagram.  Focus on the temperature and pressure lines.  In the atmosphere, pressure is a proxy for elevation.\n",
    "- In the online climlab documentation, you can read about the two different \"GCM-level\" radiation codes provided with climlab:\n",
    "    - The [RRTMG (Rapid Radiative Transfer Model)](https://climlab.readthedocs.io/en/latest/api/climlab.radiation.RRTMG.html) which is used in many current GCMs.\n",
    "    - The [CAM3 radiation module](https://climlab.readthedocs.io/en/latest/api/climlab.radiation.CAM3.html) from NCAR (essentially the same radiation code used in the Community Earth System Model)\n",
    "    \n",
    "- Read more about *while*-loops in [Python for Everyone, Chapter 5](https://www.py4e.com/html3/05-iterations).\n",
    "\n",
    "- This lab is based on chapters 11-13 of [The Climate Laboratory](https://brian-rose.github.io/ClimateLaboratoryBook) by [Brian E. J. Rose](http://www.atmos.albany.edu/facstaff/brose/index.html), University at Albany.\n",
    "\n",
    "- Lab notebook last updated by Lizz Ultee, 12 Mar 2024"
   ]
  },
  {
   "cell_type": "code",
   "execution_count": null,
   "id": "7dc757ca-ed26-43bd-9a81-5fc67cc08e47",
   "metadata": {},
   "outputs": [],
   "source": []
  }
 ],
 "metadata": {
  "kernelspec": {
   "display_name": "Python 3 (ipykernel)",
   "language": "python",
   "name": "python3"
  },
  "language_info": {
   "codemirror_mode": {
    "name": "ipython",
    "version": 3
   },
   "file_extension": ".py",
   "mimetype": "text/x-python",
   "name": "python",
   "nbconvert_exporter": "python",
   "pygments_lexer": "ipython3",
   "version": "3.9.10"
  }
 },
 "nbformat": 4,
 "nbformat_minor": 5
}
