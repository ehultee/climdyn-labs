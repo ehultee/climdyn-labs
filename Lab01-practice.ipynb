{
 "cells": [
  {
   "cell_type": "markdown",
   "id": "04572e2f-1ca0-4053-a8c4-83774e255810",
   "metadata": {},
   "source": [
    "# ECSC 202 Week 1 -- Python primer practice exercises"
   ]
  },
  {
   "cell_type": "markdown",
   "id": "bbc773b2-740d-41db-a260-36bab8893379",
   "metadata": {},
   "source": [
    "Work with a partner to complete the following exercises, based on what we discussed in [Lab01_python_primer](Lab01_python_primer.ipynb)."
   ]
  },
  {
   "cell_type": "markdown",
   "id": "ae9fe016-97eb-4f88-a790-bc4c101bdc4d",
   "metadata": {},
   "source": [
    "### 1. What type are the following?  \n",
    "Make a guess and then write code to check.\n",
    "- 0\n",
    "- 51\n",
    "- 0.0\n",
    "- '51'\n",
    "- 'climate'\n",
    "- climate\n",
    "- 51e3"
   ]
  },
  {
   "cell_type": "markdown",
   "id": "cdeb1128-68ba-42db-9896-478369fe463d",
   "metadata": {},
   "source": [
    "### 2. Suppose we assign the following:"
   ]
  },
  {
   "cell_type": "code",
   "execution_count": null,
   "id": "d761a76f-36b0-488b-b7f4-fc858c00b84d",
   "metadata": {},
   "outputs": [],
   "source": [
    "sensors = 14\n",
    "temperature = 22.0"
   ]
  },
  {
   "cell_type": "markdown",
   "id": "facbdcd1-7cb0-418d-93d2-8c16bec83a7b",
   "metadata": {},
   "source": [
    "What will be the value and type of the following expressions? Discuss with a partner and then test in a code cell.\n",
    "- `sensors/7`\n",
    "- `sensors/7.0`\n",
    "- `temperature/2`"
   ]
  },
  {
   "cell_type": "code",
   "execution_count": null,
   "id": "1d0f56a1-3104-4d11-8d7a-c1bd6c89af9a",
   "metadata": {},
   "outputs": [],
   "source": []
  },
  {
   "cell_type": "markdown",
   "id": "21844cc2-cc60-4cab-ae5c-95a8407dbb4a",
   "metadata": {},
   "source": [
    "## 3. Suppose you have three experiments to perform.  \n",
    "Give them each a name (for example, 'Experiment 1') and make a Python list of all three.  The names should be `str` type."
   ]
  },
  {
   "cell_type": "code",
   "execution_count": null,
   "id": "b854757c-28cf-4d89-8b7d-0a2c2173426e",
   "metadata": {},
   "outputs": [],
   "source": []
  },
  {
   "cell_type": "markdown",
   "id": "ba78c5bb-d727-4bc7-9405-b268e3026323",
   "metadata": {},
   "source": [
    "Now, use slicing to print the name of each experiment from a separate code cell.  Print their names in reverse order from how you defined them (so print the name of the third experiment first)."
   ]
  },
  {
   "cell_type": "code",
   "execution_count": null,
   "id": "bb3d065d-8472-4e73-881a-3e29385f12cd",
   "metadata": {},
   "outputs": [],
   "source": []
  },
  {
   "cell_type": "code",
   "execution_count": null,
   "id": "ee935aeb-fff2-45a8-b21b-14cfb2843cda",
   "metadata": {},
   "outputs": [],
   "source": []
  },
  {
   "cell_type": "code",
   "execution_count": null,
   "id": "9b6705ac-f22d-44e4-a353-179e36d2ce13",
   "metadata": {},
   "outputs": [],
   "source": []
  }
 ],
 "metadata": {
  "kernelspec": {
   "display_name": "Python 3 (ipykernel)",
   "language": "python",
   "name": "python3"
  },
  "language_info": {
   "codemirror_mode": {
    "name": "ipython",
    "version": 3
   },
   "file_extension": ".py",
   "mimetype": "text/x-python",
   "name": "python",
   "nbconvert_exporter": "python",
   "pygments_lexer": "ipython3",
   "version": "3.9.10"
  }
 },
 "nbformat": 4,
 "nbformat_minor": 5
}
