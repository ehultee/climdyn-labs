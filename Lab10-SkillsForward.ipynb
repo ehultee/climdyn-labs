{
 "cells": [
  {
   "cell_type": "markdown",
   "id": "7914b988-e9db-44ce-9b7b-ba74f136cdab",
   "metadata": {
    "tags": []
   },
   "source": [
    "# Lab 10: Computational skills moving forward\n",
    "This course probably won't be the last time you use Python for your scientific work.  Our goal today is to get you set up for future use cases: \n",
    "1. finding, accessing, and loading new data, and \n",
    "2. setting up a new conda environment.\n",
    "\n",
    "I'll provide some resources, we'll work through an example together, and we can discuss any questions you have along the way."
   ]
  },
  {
   "cell_type": "markdown",
   "id": "d8a63463-5315-43da-8320-4b785504684f",
   "metadata": {},
   "source": [
    "---\n",
    "## Part 1. Accessing public data\n",
    "You have processed a few publicly available datasets, some of which were served nicely in global gridded format (ERA5 data in Lab 2, 6, and 7 and Assignment 5) and some of which you wrassled into shape from trickier formats (TAO/TRITON data in Lab 8; NCEI data in class).  These data were primarily in **NetCDF** and **CSV** formats.  We used `xarray` and `pandas` to process them.\n",
    "\n",
    "There are many public repositories where you can find data for other analyses you might want to do.  For example:\n",
    "- the [Copernicus Climate Data Store](https://cds.climate.copernicus.eu/#!/home) for climate datasets, including ERA5, that were produced by European institutions\n",
    "- the [National Snow & Ice Data Center](https://nsidc.org/data/explore-data) for cryosphere data, mostly US-produced\n",
    "- regional focus repositories such as [NSF Arctic Data Center](https://arcticdata.io/catalog/data)\n",
    "...\n"
   ]
  },
  {
   "cell_type": "markdown",
   "id": "02af1216-def0-4728-8b5c-04a7235f24db",
   "metadata": {},
   "source": [
    "### Example: CMIP6 projections\n",
    "One thing you might like to do now is explore future climate projections.  You can retrieve these from Copernicus.\n",
    "1. Click the Copernicus Climate Data Store link above.\n",
    "2. Click \"login/register\" and follow the steps to make an account.\n",
    "3. Return to the site and enter \"CMIP6\" in the search bar.  This corresponds to the sixth, most recent, phase of the Coupled Model Intercomparison Project\n",
    "4. Click \"CMIP6 climate projections\" and read about the data that is included.\n",
    "5. Click \"Download data\" and fill out the form to select monthly data, for SSP2-4.5 (for example), for whichever variable you want to analyse.  I will show sea ice concentration and thickness for a single GCM (CanESM2) below.\n",
    "6. Unzip the data and put it in the folder where you want to access it.  Update the path below."
   ]
  },
  {
   "cell_type": "code",
   "execution_count": null,
   "id": "4264459e-5c98-4a79-95fc-197827c12f00",
   "metadata": {},
   "outputs": [],
   "source": [
    "# Import the tools (stolen from Lab 6):\n",
    "import matplotlib.pyplot as plt  # plotting library\n",
    "import numpy as np  # numerical library\n",
    "import xarray as xr  # netCDF library\n",
    "import cartopy  # Map projections libary\n",
    "import cartopy.crs as ccrs  # Projections list\n",
    "# Some defaults:\n",
    "plt.rcParams['figure.figsize'] = (12, 5)  # Default plot size"
   ]
  },
  {
   "cell_type": "code",
   "execution_count": null,
   "id": "fdb42979-3299-4832-bb31-3feb67475689",
   "metadata": {},
   "outputs": [],
   "source": [
    "fpath = '/Users/lizz/Documents/GitHub/climdyn-labs/data/dataset-projections-cmip5-monthly-single-levels-71df9c03-3f6e-4f30-a7be-07c0a67f6460/'\n",
    "f_sic = fpath+'sic_OImon_CanESM2_rcp45_r1i1p1_200601-210012.nc'\n",
    "f_sit = fpath+'sit_OImon_CanESM2_rcp45_r1i1p1_200601-210012.nc'"
   ]
  },
  {
   "cell_type": "code",
   "execution_count": null,
   "id": "683d33fc-7f7b-442d-8636-a914f69e7311",
   "metadata": {},
   "outputs": [],
   "source": [
    "ds1 = xr.open_dataset(f_sic) ## open sea ice concentration first\n",
    "ds1"
   ]
  },
  {
   "cell_type": "code",
   "execution_count": null,
   "id": "4f25af3f-1231-433e-9423-39c56214a4ec",
   "metadata": {},
   "outputs": [],
   "source": [
    "ds2 = xr.open_dataset(f_sit) ## now inspect sea ice thickness\n",
    "ds2"
   ]
  },
  {
   "cell_type": "markdown",
   "id": "ee5d806b-4581-4e56-8abc-8c86dcb423e2",
   "metadata": {},
   "source": [
    "#### Global map plot inspection"
   ]
  },
  {
   "cell_type": "markdown",
   "id": "b235f1ac-0c1d-497f-af06-458409df77f0",
   "metadata": {},
   "source": [
    "Let's compute a time average and plot it on a map, as we have done before."
   ]
  },
  {
   "cell_type": "code",
   "execution_count": null,
   "id": "3a76b9f8-c527-4a91-b2f3-e0222f310211",
   "metadata": {},
   "outputs": [],
   "source": [
    "sic_tavg = ds1.sic.mean(dim='time')\n",
    "ax = plt.axes(projection=ccrs.Robinson())\n",
    "sic_tavg.plot(ax=ax, transform=ccrs.PlateCarree(), cmap='Blues')\n",
    "ax.coastlines(); ax.gridlines();"
   ]
  },
  {
   "cell_type": "markdown",
   "id": "e55820f7-0404-4cf7-a1d3-7521dd573b4f",
   "metadata": {},
   "source": [
    "This makes sense.  There is highest average sea ice concentration near the poles, and zero sea ice concentration at the equator.  Let's inspect a NH winter month: "
   ]
  },
  {
   "cell_type": "code",
   "execution_count": null,
   "id": "ee67a001-0f1f-460a-ad32-38656641ffb7",
   "metadata": {},
   "outputs": [],
   "source": [
    "ax = plt.axes(projection=ccrs.Robinson())\n",
    "ds1.sic.sel(time='2010-03-16').plot(ax=ax, \n",
    "                                    transform=ccrs.PlateCarree(), \n",
    "                                    cmap='Blues')\n",
    "## notice how I had to choose exactly one of the times \n",
    "## shown in the 'time' dimension\n",
    "ax.coastlines(); ax.gridlines();"
   ]
  },
  {
   "cell_type": "markdown",
   "id": "69e91302-e88a-4777-bd2b-b3f32a1071dd",
   "metadata": {},
   "source": [
    "And now let's see the end of NH summer / SH winter:"
   ]
  },
  {
   "cell_type": "code",
   "execution_count": null,
   "id": "68a6ebf4-1de8-4353-825d-eafbb17c59a3",
   "metadata": {},
   "outputs": [],
   "source": [
    "ax = plt.axes(projection=ccrs.Robinson())\n",
    "ds1.sic.sel(time='2010-09-16').plot(ax=ax, \n",
    "                                    transform=ccrs.PlateCarree(), \n",
    "                                    cmap='Blues')\n",
    "## notice how I had to choose exactly one of the times \n",
    "## shown in the 'time' dimension\n",
    "ax.coastlines(); ax.gridlines();"
   ]
  },
  {
   "cell_type": "markdown",
   "id": "d794c884-8894-4dde-923d-f0d76b07f528",
   "metadata": {},
   "source": [
    "Looks about like what we'd expect.  The second dataset I've read in, `ds2`, is sea ice thickness output by the same model.  Let's see:"
   ]
  },
  {
   "cell_type": "code",
   "execution_count": null,
   "id": "57012321-2250-4a94-8812-1bb68bb753bc",
   "metadata": {},
   "outputs": [],
   "source": [
    "ax = plt.axes(projection=ccrs.Robinson())\n",
    "ds2.sit.sel(time='2010-09-16').plot(ax=ax, \n",
    "                                    transform=ccrs.PlateCarree(), \n",
    "                                    cmap='Blues')\n",
    "## notice how I had to choose exactly one of the times \n",
    "## shown in the 'time' dimension\n",
    "ax.coastlines(); ax.gridlines();"
   ]
  },
  {
   "cell_type": "markdown",
   "id": "da3c2be2-4f8e-48db-945f-d3f43ba7471a",
   "metadata": {},
   "source": [
    "We are well equipped to answer questions like: What's the maximum sea ice thickness in the early part of the century?"
   ]
  },
  {
   "cell_type": "code",
   "execution_count": null,
   "id": "883910d4-3e57-4e37-be2e-1e46aafd5eed",
   "metadata": {},
   "outputs": [],
   "source": [
    "ds2.sit.sel(time=slice('2006','2020')).max()"
   ]
  },
  {
   "cell_type": "markdown",
   "id": "7bf85e22-b523-4b2e-8ef8-0bea7ae2f49b",
   "metadata": {},
   "source": [
    "Looks like 3.8 meters is the maximum sea ice thickness in the early 21st century."
   ]
  },
  {
   "cell_type": "markdown",
   "id": "964976db-6c6c-43e4-95b3-506f568a3dca",
   "metadata": {},
   "source": [
    "Let's see what this model projects for the future.  I asked for the SSP2-4.5 scenario; remember that these outputs will be different depending on the socioeconomic pathway and the model used to project them.  With that in mind..."
   ]
  },
  {
   "cell_type": "code",
   "execution_count": null,
   "id": "d3df4238-035a-4478-9ffa-3f8e722ba2e7",
   "metadata": {},
   "outputs": [],
   "source": [
    "ax = plt.axes(projection=ccrs.Robinson())\n",
    "ds1.sic.sel(time='2099-09-16').plot(ax=ax, \n",
    "                                    transform=ccrs.PlateCarree(), \n",
    "                                    cmap='Blues')\n",
    "## notice how I had to choose exactly one of the times \n",
    "## shown in the 'time' dimension\n",
    "ax.coastlines(); ax.gridlines();"
   ]
  },
  {
   "cell_type": "markdown",
   "id": "426e1492-28a5-465d-9eb7-ad0b761ab7d6",
   "metadata": {},
   "source": [
    "This model projects an ice-free Arctic summer at the end of the century.  What's the max sea ice thickness at the end of the century?"
   ]
  },
  {
   "cell_type": "code",
   "execution_count": null,
   "id": "e0c50117-37ec-41f6-9b66-6f02e0283bbb",
   "metadata": {},
   "outputs": [],
   "source": [
    "ds2.sit.sel(time=slice('2085','2100')).max()"
   ]
  },
  {
   "cell_type": "markdown",
   "id": "15da01ed-8f73-4f0c-937c-a60270f8e117",
   "metadata": {},
   "source": [
    "Looks like about a 25% reduction in the maximum ice thickness.  So in addition to the loss of concentration, it looks like sea ice is not getting as thick (or persisting long enough to get thick) as it did in the past."
   ]
  },
  {
   "cell_type": "markdown",
   "id": "925032dd-ab2e-48c2-ab61-8a05b32f388a",
   "metadata": {},
   "source": [
    "As we close our time together, you are well-equipped to analyse and compare projections like these!  We will not spend time doing it now, but I am happy to chat about any analysis you can dream up. :)"
   ]
  },
  {
   "cell_type": "markdown",
   "id": "52096e12-e7cf-4240-9f5a-1fa7ed1c44e9",
   "metadata": {},
   "source": [
    "---\n",
    "## Part 2. Setting up a new conda environment\n",
    "You will probably need slightly different computational tools in the future, beyond the environment we've used for class.  Now that you have the Anaconda Python distribution set up, it is straightforward to set up new environments that won't interfere with your existing packages.\n",
    "\n",
    "You can see exactly how easy on the [conda cheat sheet](https://docs.conda.io/projects/conda/en/4.6.0/_downloads/52a95608c49671267e40c689e0bc00ca/conda-cheatsheet.pdf), which I use *all the time*."
   ]
  },
  {
   "cell_type": "markdown",
   "id": "51d9f59a-c772-4264-be42-07563593cd7e",
   "metadata": {},
   "source": [
    "### Example: an environment with QGIS\n",
    "Let's say you are doing some geospatial analysis and want to use GIS.  \n",
    "\n",
    "QGIS is open-source and can be installed directly with conda, and we can put it in its own environment so it doesn't touch anything in the ECSC 202 environment.\n",
    "\n",
    "First we make a new environment and give it some sensible name.  **In the terminal:**\n",
    "```\n",
    "    conda create --name qgis_example\n",
    "```\n",
    "And activate it:\n",
    "```\n",
    "    conda activate qgis_example\n",
    "```"
   ]
  },
  {
   "cell_type": "markdown",
   "id": "a612ffe2-2e74-4ef5-af20-f6cf789187ef",
   "metadata": {},
   "source": [
    "We can install QGIS from the `conda-forge` channel:\n",
    "```\n",
    "    conda install -c conda-forge qgis\n",
    "```\n",
    "\n",
    "How did I know to give the `-c conda-forge` command? I suspected QGIS might be on conda-forge rather than the default conda channel because it is not a \"core\" Python package, but I confirmed it by looking [on StackExchange](https://gis.stackexchange.com/questions/119495/does-qgis-work-with-anaconda)!  This is not the kind of thing I expect anyone to just remember offhand."
   ]
  },
  {
   "cell_type": "markdown",
   "id": "870a80a2-6727-4e31-9a3f-2d857cdd466b",
   "metadata": {},
   "source": [
    "Once the installation completes, we can launch QGIS from our example environment by simply typing `qgis`.\n",
    "\n",
    "You can find conda-based installation instructions for many open-source software packages online.  Remember: all you need is a new environment, not a whole new conda installation.  \n",
    "\n",
    "#### Help! I messed up my environment! \n",
    "If you happen to mess up your ECSC202 environment, it's easy to remove and reinstall it from our `environment.yml` file following the conda cheat sheet.  \n",
    "\n",
    "If you're nervous -- like if it's month 8 of your 9-month thesis and you need to install some finicky package -- I advise that you follow the instructions to **save your active environment to an environment.yml file** before you mess around with something new.  Then you will know how to get back to the working environment if something goes wrong.\n",
    "\n",
    "Conda is *not* touching any of your Jupyter notebooks or Python scripts.  They will all be preserved even if you remove and reinstall the environment.  Conda is only managing the packages (anything we `import`) in the environment."
   ]
  },
  {
   "cell_type": "markdown",
   "id": "a8e9078a-57ac-4c8f-8477-8ed7b0010c9a",
   "metadata": {},
   "source": [
    "---\n",
    "### Endnotes:\n",
    "- This notebook last updated 7 May 2024 by Lizz Ultee"
   ]
  },
  {
   "cell_type": "code",
   "execution_count": null,
   "id": "15184c9a-bd52-4c4e-a9fd-cd60aa407de0",
   "metadata": {},
   "outputs": [],
   "source": []
  }
 ],
 "metadata": {
  "kernelspec": {
   "display_name": "Python 3 (ipykernel)",
   "language": "python",
   "name": "python3"
  },
  "language_info": {
   "codemirror_mode": {
    "name": "ipython",
    "version": 3
   },
   "file_extension": ".py",
   "mimetype": "text/x-python",
   "name": "python",
   "nbconvert_exporter": "python",
   "pygments_lexer": "ipython3",
   "version": "3.9.10"
  }
 },
 "nbformat": 4,
 "nbformat_minor": 5
}
