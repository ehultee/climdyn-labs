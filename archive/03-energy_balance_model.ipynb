{
 "cells": [
  {
   "cell_type": "markdown",
   "id": "6efd215f",
   "metadata": {},
   "source": [
    "# Writing our first climate model"
   ]
  },
  {
   "cell_type": "markdown",
   "id": "c1abcf56",
   "metadata": {},
   "source": [
    "In class, we discussed Earth's global radiation budget, and we plotted the top-of-atmosphere radiative fluxes.  Now we will use our knowledge of energy balance to write a simple climate model!  \n",
    "\n",
    "The model we are going to create will tell us how much global mean temperature should change for a given change in climate parameters."
   ]
  },
  {
   "cell_type": "markdown",
   "id": "16b9947a",
   "metadata": {},
   "source": [
    "First, let's look again at the plot of energy balance we've been studying.  Double-click on the image to see how it was added to the Jupyter notebook as well--this will help you on Assignment 2."
   ]
  },
  {
   "cell_type": "markdown",
   "id": "02aad8fb",
   "metadata": {},
   "source": [
    "![Observed global energy flows from Trenberth and Fasullo (2012)](./figs/radbudget-trenberth_fasullo.jpeg)"
   ]
  },
  {
   "cell_type": "markdown",
   "id": "f62e3116",
   "metadata": {},
   "source": [
    "## 1. Finding parameters that fit observations"
   ]
  },
  {
   "cell_type": "markdown",
   "id": "e0b8c344",
   "metadata": {},
   "source": [
    "In class we discussed the Stefan-Boltzmann law of blackbody radiation, and we related the outgoing longwave radiation at the top of the atmosphere to Earth's theoretical surface temperature.  We found that blackbody radiation was not a very good fit to the observed temperature due to the influence of our greenhouse atmosphere.\n",
    "\n",
    "To account for the atmosphere, we introduced the  **transmissivity**  of the atmosphere, $\\tau$, a number less than 1 that represents the greenhouse effect of Earth's atmosphere.  \n",
    "\n",
    "With the transmissivity included, the **OLR** or Outgoing Longwave Radiation to space is:\n",
    "\n",
    "$$ \\text{OLR} = \\tau \\sigma T_s^4 $$\n",
    "\n",
    "where $\\sigma$ is the Stefan-Boltzmann constant and $T_s$ is the surface temperature. "
   ]
  },
  {
   "cell_type": "markdown",
   "id": "820c3186",
   "metadata": {},
   "source": [
    "**Exercise: Find a value for $\\tau$ that fits the observations of $OLR$ and $T_s$.**"
   ]
  },
  {
   "cell_type": "code",
   "execution_count": null,
   "id": "3659d780",
   "metadata": {},
   "outputs": [],
   "source": [
    "## your python code here"
   ]
  },
  {
   "cell_type": "markdown",
   "id": "7dc4b196",
   "metadata": {},
   "source": [
    "From the plot above, the area-averaged incoming solar radiation or **insolation** is 341.3 W m$^{-2}$.\n",
    "\n",
    "Let's denote this quantity by $Q$."
   ]
  },
  {
   "cell_type": "code",
   "execution_count": null,
   "id": "4d7c94e6",
   "metadata": {},
   "outputs": [],
   "source": [
    "Q = 341.3  # the insolation"
   ]
  },
  {
   "cell_type": "markdown",
   "id": "f9ed4aec",
   "metadata": {
    "tags": []
   },
   "source": [
    "#### Planetary albedo\n",
    "\n",
    "Some of the incoming radiation is not absorbed at all but simply reflected back to space. Let's call this quantity $F_{reflected}$\n",
    "\n",
    "From observations we have:"
   ]
  },
  {
   "cell_type": "code",
   "execution_count": null,
   "id": "48b3abe9",
   "metadata": {},
   "outputs": [],
   "source": [
    "Freflected = 101.9  #  reflected shortwave flux in W/m2"
   ]
  },
  {
   "cell_type": "markdown",
   "id": "8287d563",
   "metadata": {},
   "source": [
    "\n",
    "The **planetary albedo** is the fraction of $Q$ that is reflected.\n",
    "\n",
    "We will denote the planetary albedo by $\\alpha$.\n",
    "\n",
    "Then we can compute..."
   ]
  },
  {
   "cell_type": "code",
   "execution_count": null,
   "id": "a188ce45",
   "metadata": {},
   "outputs": [],
   "source": [
    "## compute alpha and fill in below statement"
   ]
  },
  {
   "cell_type": "markdown",
   "id": "6653e4ea",
   "metadata": {},
   "source": [
    "This means that ....% of solar radiation is reflected back to space. "
   ]
  },
  {
   "cell_type": "markdown",
   "id": "c192fe1c",
   "metadata": {},
   "source": [
    "## 2. Absorbed Shortwave Radiation\n",
    "\n",
    "The **Absorbed Shortwave Radiation** or ASR is the part of the incoming sunlight that is *not* reflected back to space, i.e. that part that is absorbed somewhere within the Earth system.\n",
    "\n",
    "Mathematically we write\n",
    "\n",
    "$$ \\text{ASR} = Q - F_{reflected} = (1-\\alpha) Q $$"
   ]
  },
  {
   "cell_type": "markdown",
   "id": "22ca5cdf",
   "metadata": {},
   "source": [
    "**Exercise: define a new variable (not a function) called ASR_obs.  Compute ASR from the variables you have computed above.**"
   ]
  },
  {
   "cell_type": "code",
   "execution_count": null,
   "id": "c99f222a",
   "metadata": {},
   "outputs": [],
   "source": [
    "## your code here"
   ]
  },
  {
   "cell_type": "markdown",
   "id": "86079b99",
   "metadata": {},
   "source": [
    "What does this value tell you about Earth's global energy balance?  Use what we discussed in class and the information above."
   ]
  },
  {
   "cell_type": "markdown",
   "id": "bf79a051",
   "metadata": {},
   "source": [
    "(Your interpretation here)"
   ]
  },
  {
   "cell_type": "markdown",
   "id": "2e506caa",
   "metadata": {},
   "source": [
    "## 3. Equilibrium temperature"
   ]
  },
  {
   "cell_type": "markdown",
   "id": "b447916e",
   "metadata": {},
   "source": [
    "*This is one of the central concepts in climate modeling.*\n",
    "\n",
    "The Earth system is in **energy balance** when energy in = energy out, i.e. when\n",
    "\n",
    "$$ \\text{ASR} = \\text{OLR} $$"
   ]
  },
  {
   "cell_type": "markdown",
   "id": "3223fc49",
   "metadata": {},
   "source": [
    "Questions we'd like to answer include\n",
    "\n",
    "- What surface temperature do we need to have this balance?\n",
    "- By how much would the temperature change in response to other changes in Earth system?\n",
    "    - Changes in greenhouse gases\n",
    "    - Changes in cloudiness\n",
    "    - etc.\n",
    "\n"
   ]
  },
  {
   "cell_type": "markdown",
   "id": "46a98d09",
   "metadata": {},
   "source": [
    "The equations above describe a simple climate model.  We can use this model to get an *exact solution* for the **equilibrium temperature**."
   ]
  },
  {
   "cell_type": "markdown",
   "id": "80319409",
   "metadata": {},
   "source": [
    "**Exercise: Write out the statement of energy balance, replacing ASR and OLR with their formulas we discussed above.**"
   ]
  },
  {
   "cell_type": "markdown",
   "id": "3748b25d",
   "metadata": {},
   "source": [
    "*(You can write the statement here if you know LaTeX, or you can write it in your notebook)*"
   ]
  },
  {
   "cell_type": "markdown",
   "id": "a996d31e",
   "metadata": {},
   "source": [
    "**Now: rearrange the statement to solve for the surface temperature, $T_s$.**"
   ]
  },
  {
   "cell_type": "markdown",
   "id": "f75dbe6d",
   "metadata": {},
   "source": [
    "*(What expression do you find for $T_s$? You can write it here if you know LaTeX, or write it in your notebook.)*"
   ]
  },
  {
   "cell_type": "markdown",
   "id": "b6561f05",
   "metadata": {},
   "source": [
    "To produce this expression, we assumed $ASR=OLR$.  Thus, $T_s$ is our equilibrium temperature required for energy balance, $T_{eq}$.  If the Earth had exactly this surface temperature, it would be in radiative balance with the Sun."
   ]
  },
  {
   "cell_type": "markdown",
   "id": "b3b952e7",
   "metadata": {},
   "source": [
    "**Python implementation: write a reusable function that will compute the equilibrium temperature $T_{eq}$ for any values of albedo, incoming solar flux, and transmissivity.**"
   ]
  },
  {
   "cell_type": "code",
   "execution_count": null,
   "id": "90fe8e23",
   "metadata": {},
   "outputs": [],
   "source": [
    "## your reusable function here"
   ]
  },
  {
   "cell_type": "markdown",
   "id": "5cce276f",
   "metadata": {},
   "source": [
    "Let's make your function a little bit easier to use.  Add to your function definition so that it has *default values* for each of the parameters.  [Here is a tutorial on default values.](https://www.pythontutorial.net/python-basics/python-default-parameters/)\n",
    "\n",
    "Choose appropriate default values and assign them below."
   ]
  },
  {
   "cell_type": "code",
   "execution_count": null,
   "id": "444f3749",
   "metadata": {},
   "outputs": [],
   "source": [
    "## version of your function with default values here"
   ]
  },
  {
   "cell_type": "markdown",
   "id": "aae2a926",
   "metadata": {},
   "source": [
    "Finally, compute the equilibrium temperature with the observed values of each parameter."
   ]
  },
  {
   "cell_type": "code",
   "execution_count": null,
   "id": "24b6fbc7",
   "metadata": {},
   "outputs": [],
   "source": [
    "## your call to your function"
   ]
  },
  {
   "cell_type": "markdown",
   "id": "538ed88e",
   "metadata": {},
   "source": [
    "How does this compare with the observed global temperature?"
   ]
  },
  {
   "cell_type": "markdown",
   "id": "7cba234a",
   "metadata": {},
   "source": [
    "*(Your response here)*"
   ]
  },
  {
   "cell_type": "markdown",
   "id": "5b374d3a",
   "metadata": {},
   "source": [
    "## 4. A climate change scenario"
   ]
  },
  {
   "cell_type": "markdown",
   "id": "8887e6f4",
   "metadata": {},
   "source": [
    "Suppose that, due to global warming (changes in atmospheric composition and subsequent changes in cloudiness):\n",
    "\n",
    "- The longwave transmissitivity decreases to $\\tau = 0.57$ \n",
    "- The planetary albedo increases to $\\alpha = 0.32$\n",
    "\n",
    "What is the ***new equilibrium temperature***?"
   ]
  },
  {
   "cell_type": "code",
   "execution_count": null,
   "id": "2bf35c0b",
   "metadata": {},
   "outputs": [],
   "source": [
    "Teq_new = ... ## your computation here\n",
    "#  we'll show an example of formatted print output, limiting to two or one decimal places\n",
    "print('The new equilibrium temperature is {:.2f} K.'.format(Teq_new))\n",
    "print('The equilibrium temperature increased by about {:.1f} K.'.format(Teq_new-Teq_observed))"
   ]
  },
  {
   "cell_type": "markdown",
   "id": "cf445ff5",
   "metadata": {},
   "source": [
    "Most climate models are more complicated than this one, and solving directly for the equilibrium temperature will not be possible.\n",
    "\n",
    "Instead, we will be able to use the model to calculate the terms in the energy budget (ASR and OLR). To prepare for that style of modelling..."
   ]
  },
  {
   "cell_type": "markdown",
   "id": "c10def15",
   "metadata": {},
   "source": [
    "**Python exercise:**\n",
    "- Write reusable functions that will compute ASR and OLR for any values of albedo, transmissivity, solar flux, and temperature.\n",
    "- Verify the following:\n",
    "    - With the new parameter values but the old temperature $T = 288$ K, is ASR greater or lesser than OLR? \n",
    "    - Is the Earth gaining or losing energy?\n",
    "    - How does your answer change if $T = 295$ K (or any temperature greater than your `Teq_new` above)?"
   ]
  },
  {
   "cell_type": "code",
   "execution_count": null,
   "id": "6bea427a",
   "metadata": {},
   "outputs": [],
   "source": [
    "## your code here"
   ]
  },
  {
   "cell_type": "markdown",
   "id": "12f7c742",
   "metadata": {},
   "source": [
    "## 5. Simulating changes over time"
   ]
  },
  {
   "cell_type": "markdown",
   "id": "ba8b7e2d",
   "metadata": {},
   "source": [
    "The above exercise shows us that if some properties of the climate system change in such a way that the **equilibrium temperature goes up**, then the Earth system *receives more energy from the sun than it is losing to space*. The system is **no longer in energy balance**.\n",
    "\n",
    "The temperature must then increase to get back into balance. The increase will not happen all at once! It will take time for energy to accumulate in the climate system. We want to model this **time-dependent adjustment** of the system.\n",
    "\n",
    "In fact almost all climate models are **time-dependent**, meaning the model calculates **time derivatives** (rates of change) of climate variables."
   ]
  },
  {
   "cell_type": "markdown",
   "id": "32e27c22",
   "metadata": {},
   "source": [
    "### An energy balance **equation**\n",
    "\n",
    "If the Earth system is no longer in energy balance, then there must be some net change in energy within the system over time.  We will write the **total energy budget** of the Earth system as\n",
    "\n",
    "$$\n",
    "\\begin{align} \n",
    "\\frac{dE}{dt} &= \\text{net energy flux in to system} \\\\\n",
    " &= \\text{flux in – flux out} \\\\\n",
    " &= \\text{ASR} - \\text{OLR}\n",
    "\\end{align}\n",
    "$$\n",
    "\n",
    "where $E$ is the **enthalpy** or **heat content** of the total system.\n",
    "\n",
    "We will express the budget **per unit surface area**, so each term above has units W m$^{-2}$\n",
    "\n",
    "Note: any internal exchanges of energy between different reservoirs (e.g. between ocean, land, ice, atmosphere) do not appear in this budget – because $E$ is the sum of all reservoirs.\n",
    "\n",
    "Also note: **This is a generically true statement.** We have just defined some terms, and made the (very good) assumption that the only significant energy sources are radiative exchanges with space."
   ]
  },
  {
   "cell_type": "markdown",
   "id": "33f2352d",
   "metadata": {},
   "source": [
    "**This equation is the starting point for _every climate model_.**\n",
    "\n",
    "But so far, we don’t actually have a MODEL, something that will show us changes in the system over time. We just have a statement of a budget. To use this budget to make a model, we need to relate terms in the budget to state variables of the atmosphere-ocean system.\n",
    "\n",
    "For now, the state variable we are most interested in is **temperature** – because it is directly connected to the physics of each term above."
   ]
  },
  {
   "cell_type": "markdown",
   "id": "9d037f9b",
   "metadata": {},
   "source": [
    "### An energy balance **model**\n",
    "\n",
    "If we now suppose that \n",
    "\n",
    "$$ E = C T_s $$\n",
    "\n",
    "where $E$ is the total heat content as above, $T_s$ is the global mean surface temperature, and $C$ is a constant – the **effective heat capacity** of the atmosphere- ocean column.\n",
    "\n",
    "then we can rewrite our energy budget equation as..."
   ]
  },
  {
   "cell_type": "markdown",
   "id": "57198eb6",
   "metadata": {},
   "source": [
    "*(Write down the equation here if you know LaTeX, or write it in your notebook.)*\n",
    "\n",
    "\n",
    "\n"
   ]
  },
  {
   "cell_type": "markdown",
   "id": "f2a32fda",
   "metadata": {},
   "source": [
    "For our purposes here we are going to use a value of C equivalent to heating 100 meters of water:\n",
    "\n",
    "$$C = c_w \\rho_w H$$\n",
    "\n",
    "where \n",
    "\n",
    "$c_w = 4 \\times 10^3$ J kg$^{-1}$ $^\\circ$C$^{-1}$ is the specific heat of water,\n",
    "\n",
    "$\\rho_w = 10^3$ kg m$^{-3}$ is the density of water, and\n",
    "\n",
    "$H$ is an effective depth of water that is heated or cooled."
   ]
  },
  {
   "cell_type": "code",
   "execution_count": null,
   "id": "5fb6c7b3",
   "metadata": {},
   "outputs": [],
   "source": [
    "c_w = 4E3  #  Specific heat of water in J/kg/K\n",
    "rho_w = 1E3  #  Density of water in kg/m3\n",
    "H = 100.   #  Depth of water in m\n",
    "C = c_w * rho_w * H   #  Heat capacity of the model \n",
    "print('The effective heat capacity is {:.1e} J/m2/K'.format(C))"
   ]
  },
  {
   "cell_type": "markdown",
   "id": "6f22b383",
   "metadata": {},
   "source": [
    "### Solving the energy balance model\n",
    "\n",
    "The version of the energy budget equation you rewrote above is a first-order Ordinary Differential Equation (ODE) for $T_s$ as a function of time. It is also **our very first climate model!**\n",
    "\n",
    "To solve it (i.e. see how $T_s$ evolves from some specified initial condition) we have two choices:\n",
    "\n",
    "1. Solve it analytically\n",
    "2. Solve it numerically"
   ]
  },
  {
   "cell_type": "markdown",
   "id": "38488f77",
   "metadata": {},
   "source": [
    "Option 1 (analytical) will usually not be possible because the equations will typically be too complex and non-linear. This is why computers are our best friends in the world of climate modeling.\n",
    "\n",
    "HOWEVER it is often useful and instructive to simplify a model down to something that is analytically solvable when possible. Why? Two reasons:\n",
    "\n",
    "1. Analysis will often yield a deeper understanding of the behavior of the system\n",
    "2. Gives us a benchmark against which to test the results of our numerical solutions."
   ]
  },
  {
   "cell_type": "markdown",
   "id": "a4381c0c",
   "metadata": {},
   "source": [
    "## Sidebar: representing time derivatives on the computer"
   ]
  },
  {
   "cell_type": "markdown",
   "id": "f500f0a5",
   "metadata": {},
   "source": [
    "Recall that the derivative is the **instantaneous rate of change**. It is defined as \n",
    "\n",
    "$$ \\frac{dT}{dt} = \\lim_{\\Delta t\\rightarrow 0}⁡ \\frac{\\Delta T}{\\Delta t}$$\n",
    "\n",
    "- **On the computer there is no such thing as an instantaneous change.** \n",
    "- We are always dealing with *discrete quantities*.\n",
    "- So we approximate the derivative with $\\Delta T/ \\Delta t$. \n",
    "- So long as we take the time interval $\\Delta t$ \"small enough\", the approximation is valid and useful.\n",
    "- (The meaning of \"small enough\" varies widely in practice. Let's not worry about it right now)"
   ]
  },
  {
   "cell_type": "markdown",
   "id": "388707fe",
   "metadata": {},
   "source": [
    "So we can write out your model from step 6 as\n",
    "\n",
    "$$ C  \\frac{\\Delta T}{\\Delta t} \\approx \\text{ASR} - \\text{OLR}$$\n",
    "\n",
    "where $\\Delta T$ is the **change in temperature predicted by our model** over a short time interval $\\Delta t$."
   ]
  },
  {
   "cell_type": "markdown",
   "id": "d3dda47f",
   "metadata": {},
   "source": [
    "We can now use this to make a prediction: \n",
    "\n",
    "Given a current temperature $T_1$ at time $t_1$, what is the temperature $T_2$ at a future time $t_2$?"
   ]
  },
  {
   "cell_type": "markdown",
   "id": "578ac8e4",
   "metadata": {},
   "source": [
    "We can write\n",
    "\n",
    "$$ \\Delta T = T_2-T_1 $$\n",
    "$$ \\Delta t = t_2-t_1 $$\n",
    "\n",
    "and so our model says\n",
    "\n",
    "$$ C  \\frac{T_2-T_1}{\\Delta t} = \\text{ASR} - \\text{OLR} $$\n",
    "\n",
    "Which we can rearrange to **solve for the future temperature**:\n",
    "\n",
    "$$ T_2 = T_1 + \\frac{\\Delta t}{C} \\left( \\text{ASR} - \\text{OLR}(T_1) \\right)  $$\n",
    "\n",
    "We now have a formula with which to make our prediction!\n",
    "\n",
    "Notice that we have written the OLR as a *function of temperature*. We will use the current temperature $T_1$ to compute the OLR, and use that OLR to determine the future temperature."
   ]
  },
  {
   "cell_type": "markdown",
   "id": "c198b3ac",
   "metadata": {},
   "source": [
    "## 6. Computational solution of our Energy Balance Model"
   ]
  },
  {
   "cell_type": "markdown",
   "id": "08ba3f17",
   "metadata": {},
   "source": [
    "The quantity $\\Delta t$ is called a **timestep**. It is the smallest time interval represented in our model.\n",
    "\n",
    "Let's use a timestep of 1 year:"
   ]
  },
  {
   "cell_type": "code",
   "execution_count": null,
   "id": "6eaa863c",
   "metadata": {},
   "outputs": [],
   "source": [
    "dt = 60. * 60. * 24. * 365.   # one year expressed in seconds"
   ]
  },
  {
   "cell_type": "markdown",
   "id": "1062a24f",
   "metadata": {},
   "source": [
    "### Try stepping forward one timestep"
   ]
  },
  {
   "cell_type": "code",
   "execution_count": null,
   "id": "4f3ffab9",
   "metadata": {},
   "outputs": [],
   "source": [
    "# Try a single timestep, using your functions for ASR and OLR.  Input the correct parameter values: alpha=0.32, tau=0.57\n",
    "T1 = 288.\n",
    "T2 = T1 + dt / C * ( ASR(...) - OLR(T1...) ) ## edit here to call your functions\n",
    "print(T2)"
   ]
  },
  {
   "cell_type": "markdown",
   "id": "7706a152",
   "metadata": {},
   "source": [
    "***Did you get a `NameError` here?***\n",
    "\n",
    "The code above assumes that we have already defined functions `ASR()` and `OLR()`. If you named them something else in the exercise above, then the code won't work as written.  Try again, making sure to call correct function names to compute ASR and OLR."
   ]
  },
  {
   "cell_type": "markdown",
   "id": "96d75344",
   "metadata": {},
   "source": [
    "**What happened when you stepped forward one year?  Why?**"
   ]
  },
  {
   "cell_type": "markdown",
   "id": "dfe05612",
   "metadata": {},
   "source": [
    "*(Your answer here)*"
   ]
  },
  {
   "cell_type": "markdown",
   "id": "a9aa788f",
   "metadata": {},
   "source": [
    "**Exercise: step forward one more time step, using the T2 you computed above as your starting value.**"
   ]
  },
  {
   "cell_type": "code",
   "execution_count": null,
   "id": "12ecb78c",
   "metadata": {},
   "outputs": [],
   "source": [
    "T2 = ...\n",
    "T3 = ...\n",
    "print(T3)"
   ]
  },
  {
   "cell_type": "markdown",
   "id": "d846da8a",
   "metadata": {},
   "source": [
    "But we don't want to type this out every time.  That's right: it's time to define another function.\n",
    "\n",
    "**Exercise: define a function that will step forward one year, given an initial temperature $T_i$**"
   ]
  },
  {
   "cell_type": "code",
   "execution_count": null,
   "id": "aa05705e",
   "metadata": {},
   "outputs": [],
   "source": [
    "def step_forward(Ti):\n",
    "    ## work of the function\n",
    "    return ... ## write what should be returned"
   ]
  },
  {
   "cell_type": "markdown",
   "id": "af907fdd",
   "metadata": {},
   "source": [
    "The most effective way to write this function is to base it on what we've already done, calling other functions and variables we have already defined.  \n",
    "\n",
    "**Why do you think we defined default values of the albedo, solar flux, and transmissivity in Section 3 above?  How does that help us in writing `step_forward`?**"
   ]
  },
  {
   "cell_type": "markdown",
   "id": "869ef4e9",
   "metadata": {},
   "source": [
    "### Automate the timestepping with a loop\n",
    "\n",
    "Now let's really harness the power of the computer by **making a loop** (and storing values in arrays):"
   ]
  },
  {
   "cell_type": "code",
   "execution_count": null,
   "id": "928b607f",
   "metadata": {},
   "outputs": [],
   "source": [
    "import numpy as np\n",
    "\n",
    "numsteps = 20\n",
    "Tsteps = np.zeros(numsteps+1)\n",
    "Years = np.zeros(numsteps+1)\n",
    "Tsteps[0] = 288. \n",
    "for n in range(numsteps):\n",
    "    Years[n+1] = n+1\n",
    "    Tsteps[n+1] = step_forward( Tsteps[n] )\n",
    "print(Tsteps)"
   ]
  },
  {
   "cell_type": "markdown",
   "id": "8d84733e",
   "metadata": {},
   "source": [
    "What did we just do?\n",
    "\n",
    "- Created an array of zeros\n",
    "- set the initial temperature to 288 K\n",
    "- repeated our time step 20 times. \n",
    "- Stored the results of each time step into the array."
   ]
  },
  {
   "cell_type": "markdown",
   "id": "5dcf49cc",
   "metadata": {},
   "source": [
    "#### Python fact: the `for` statement executes a statement (or series of statements) a specified number of times (a loop!)"
   ]
  },
  {
   "cell_type": "markdown",
   "id": "1c8b815e",
   "metadata": {},
   "source": [
    "## 7. Make a plot"
   ]
  },
  {
   "cell_type": "markdown",
   "id": "372727aa",
   "metadata": {},
   "source": [
    "Let's present our results in a more visually interpretable way, using matplotlib to create a plot."
   ]
  },
  {
   "cell_type": "markdown",
   "id": "3b2962a3",
   "metadata": {},
   "source": [
    "We can easily make simple graphs with the function `plt.plot(x,y)`, where `x` and `y` are arrays of the same size. But we must import it first. \n",
    "\n",
    "This uses a graphics library called [matplotlib](https://matplotlib.org). This is the workhorse of scientific plotting in Python, and we will be using it all the time!\n",
    "\n",
    "When we plan on plotting, our notebooks will usually start with this:\n",
    "```\n",
    "%matplotlib inline\n",
    "import numpy as np\n",
    "import matplotlib.pyplot as plt\n",
    "```\n",
    "...unless we are going to use xarray plotting only."
   ]
  },
  {
   "cell_type": "code",
   "execution_count": null,
   "id": "13bac364",
   "metadata": {},
   "outputs": [],
   "source": [
    "# a special instruction for the Jupyter notebook\n",
    "#   Display all plots inline in the notebook\n",
    "%matplotlib inline  \n",
    "#  import the plotting package\n",
    "import matplotlib.pyplot as plt"
   ]
  },
  {
   "cell_type": "code",
   "execution_count": null,
   "id": "28cbdbc3",
   "metadata": {},
   "outputs": [],
   "source": [
    "plt.plot(Years, Tsteps)\n",
    "plt.xlabel('Years')\n",
    "plt.ylabel('Global mean temperature (K)');"
   ]
  },
  {
   "cell_type": "markdown",
   "id": "d5d019c2",
   "metadata": {},
   "source": [
    "**Exercise: Use the matplotlib documentation, or other online resources, to change something about your plot.  Maybe you want to use a different color line, or different line style, or line width?**"
   ]
  },
  {
   "cell_type": "code",
   "execution_count": null,
   "id": "a5a17a58",
   "metadata": {},
   "outputs": [],
   "source": [
    "## Your revised version of the plot here"
   ]
  },
  {
   "cell_type": "markdown",
   "id": "2a95e826",
   "metadata": {},
   "source": [
    "**Finally: Describe what happens in your simulation over time.**"
   ]
  },
  {
   "cell_type": "markdown",
   "id": "18426604",
   "metadata": {},
   "source": [
    "*(Your answer here)*"
   ]
  },
  {
   "cell_type": "markdown",
   "id": "826940bb",
   "metadata": {},
   "source": [
    "This lab draws heavily from Climlab resources by Brian Rose (not linked at top to avoid ruining the surprise!)"
   ]
  },
  {
   "cell_type": "code",
   "execution_count": null,
   "id": "d8f56581",
   "metadata": {},
   "outputs": [],
   "source": []
  }
 ],
 "metadata": {
  "kernelspec": {
   "display_name": "Python 3 (ipykernel)",
   "language": "python",
   "name": "python3"
  },
  "language_info": {
   "codemirror_mode": {
    "name": "ipython",
    "version": 3
   },
   "file_extension": ".py",
   "mimetype": "text/x-python",
   "name": "python",
   "nbconvert_exporter": "python",
   "pygments_lexer": "ipython3",
   "version": "3.9.10"
  }
 },
 "nbformat": 4,
 "nbformat_minor": 5
}
