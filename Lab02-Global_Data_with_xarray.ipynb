{
 "cells": [
  {
   "cell_type": "markdown",
   "id": "cc13c4d5-7dfa-4df9-8dc0-1708a7788768",
   "metadata": {},
   "source": [
    "# Lab 2: Global energy balance data"
   ]
  },
  {
   "cell_type": "markdown",
   "id": "68c8ae15-2c79-45bf-afb1-90e7f17b3d7a",
   "metadata": {},
   "source": [
    "The goal of this lab is to read in, plot, and interpret data about Earth's global radiation balance.  Our science questions are:\n",
    "- Is the Earth system gaining energy (net positive energy balance) or losing energy (net negative energy balance)?\n",
    "- What is the spatial pattern of this energy balance?  e.g. Is it consistent everywhere, or are some places net positive and some net negative?\n",
    "- What, if anything, is the seasonal influence on the energy balance?"
   ]
  },
  {
   "cell_type": "markdown",
   "id": "0b364c3d-6866-47f0-88da-1cf0d5a0fced",
   "metadata": {},
   "source": [
    "To address these questions we are going to analyse data from the [CERES](https://climatedataguide.ucar.edu/climate-data/ceres-ebaf-clouds-and-earths-radiant-energy-systems-ceres-energy-balanced-and-filled) (Clouds and the Earth's Radiant Energy System) mission.   On an upcoming assignment, you will use the same dataset to address the role of clouds in the Earth system.  Get excited!\n",
    "\n",
    "**You can download the files** [here for TOA](https://cluster.klima.uni-bremen.de/~fmaussion/teaching/climate/CERES_EBAF-TOA_Ed4.1_Clim-2005-2015.nc),  [here for Surface](https://cluster.klima.uni-bremen.de/~fmaussion/teaching/climate/CERES_EBAF-Surface_Ed4.1_Clim-2005-2015.nc)."
   ]
  },
  {
   "cell_type": "markdown",
   "id": "5da457b4-244d-4447-bf7f-caf334da0c7e",
   "metadata": {},
   "source": [
    "***\n",
    "## Part 1: Demonstration and skills practice"
   ]
  },
  {
   "cell_type": "markdown",
   "id": "ab174231-f448-482f-976c-9885446082b8",
   "metadata": {},
   "source": [
    "First, let's import the tools we need, drawing on some of the packages we set up in your environment."
   ]
  },
  {
   "cell_type": "code",
   "execution_count": null,
   "id": "48c91ea1-c1e1-402e-85b5-018a49a5718e",
   "metadata": {},
   "outputs": [],
   "source": [
    "# Import the tools we are going to need today:\n",
    "import matplotlib.pyplot as plt  # plotting library\n",
    "import numpy as np  # numerical library\n",
    "import xarray as xr  # netCDF library\n",
    "import cartopy  # Map projections libary\n",
    "import cartopy.crs as ccrs  # Projections list\n",
    "# Some defaults:\n",
    "plt.rcParams['figure.figsize'] = (12, 5)  # Default plot size"
   ]
  },
  {
   "cell_type": "markdown",
   "id": "558a6c0f-4334-4af5-ab3d-980b11f90fa1",
   "metadata": {},
   "source": [
    "### 1. Reading in and inspecting data\n",
    "Let's say you have a global dataset you want to analyse.  Most of today's climate data is stored in the NetCDF format (`*.nc`). NetCDF files are binary files, which means that *you can't just open them in a text editor*. You need a special reader for it.\n",
    "\n",
    "There are many ways to read data in to Python, but for our purposes, you will almost always use a built-in function from [_xarray_](http://xarray.pydata.org) or [_pandas_](https://pandas.pydata.org/).  Today we focus on xarray.\n",
    "\n",
    "To read data in to Python, you need to specify the file path and then use a read-in command.  We use `xr.open_dataset` here."
   ]
  },
  {
   "cell_type": "code",
   "execution_count": null,
   "id": "323adefe-1196-4f90-9241-ad03c64e512a",
   "metadata": {},
   "outputs": [],
   "source": [
    "## Here I downloaded the file to a \"data\" folder which I set up \n",
    "## in a folder close to this notebook\n",
    "fpath = r'/Users/lizz/Documents/GitHub/climdyn-labs/data/CERES_EBAF-TOA_Ed4.1_Clim-2005-2015.nc'\n",
    "## The variable name \"ds\" stands for \"dataset\"\n",
    "ds = xr.open_dataset(fpath)"
   ]
  },
  {
   "cell_type": "markdown",
   "id": "b77b44a1-86be-415f-b9b0-55f29b33d1b1",
   "metadata": {},
   "source": [
    "You'll have to give an absolute or relative path to the file for this to work. For example `r'C:\\PATH\\TO\\FILE\\CERES_EBAF-TOA_Ed2.8_Avg-2001-2014.nc'` on Windows.\n",
    "\n",
    "**Windows users: don't forget to add the `r` before the path, which allows you to use backlashes in the string.**"
   ]
  },
  {
   "cell_type": "code",
   "execution_count": null,
   "id": "712d770d-efb1-4914-92ac-a14eecad0885",
   "metadata": {},
   "outputs": [],
   "source": [
    "# Inspect it\n",
    "ds"
   ]
  },
  {
   "cell_type": "markdown",
   "id": "43a22ea1-3d14-4b89-95ad-775ba8d89353",
   "metadata": {},
   "source": [
    "The NetCDF dataset consists of various elements:\n",
    "- The *dimensions* specify the number of elements of each data coordinate. Their names should be understandable and specific.\n",
    "- The *attributes* provide some information about the file (metadata).\n",
    "- The *variables* contain the actual data. In our file there are five variables. All have the dimensions [month, lat, lon], so we can expect an array of size [12, 180, 360].\n",
    "- The *coordinates* locate the data in space and time."
   ]
  },
  {
   "cell_type": "markdown",
   "id": "66de7775-fe14-4b1b-9a96-725dbe8cd7dd",
   "metadata": {},
   "source": [
    "#### *Exercise:*\n",
    "Describe how to find the filepath of a data file you have downloaded to your personal computer."
   ]
  },
  {
   "cell_type": "markdown",
   "id": "4e3d6ab5-e319-47f0-84b7-221644c3041b",
   "metadata": {},
   "source": [
    "*(...your response here...)*"
   ]
  },
  {
   "cell_type": "markdown",
   "id": "5d38ed6a-bb76-4f4b-8a9c-310e0452b2bf",
   "metadata": {},
   "source": [
    "***\n",
    "### 2. Closer inspection: summary statistics"
   ]
  },
  {
   "cell_type": "markdown",
   "id": "0974ae9c-07ac-4b72-9bd5-2884b69ab31c",
   "metadata": {
    "tags": []
   },
   "source": [
    "Xarray provides us easy tools to analyse multidimensional climate data.  These come in the form of *attributes* and *functions* associated with the Dataset *object*.  We access these with a dot, `ds.<attribute>.<function_name>()`, as shown in Lab 1. \n",
    "\n",
    "First let's compute the time average of the TOA Shortwave Flux over the year:"
   ]
  },
  {
   "cell_type": "code",
   "execution_count": null,
   "id": "a9f92305-86dc-4d7e-ab30-5e45a5d98376",
   "metadata": {},
   "outputs": [],
   "source": [
    "sw_avg = ds.toa_sw_all_clim.mean(dim='month')"
   ]
  },
  {
   "cell_type": "markdown",
   "id": "2838d5ed-abb3-40b1-87ff-35fb8e26e63c",
   "metadata": {},
   "source": [
    "What did we just do? From the NetCDF Dataset, we took the toa_sw_all_clim variable (`ds.toa_sw_all_clim`) and we applied the function `.mean()` to it. So an equivalent formulation, using named variables `sw` and `sw_avg`, could be:"
   ]
  },
  {
   "cell_type": "code",
   "execution_count": null,
   "id": "7ce039ac-3716-4866-85ab-e95f23973abc",
   "metadata": {},
   "outputs": [],
   "source": [
    "# Equivalent code:\n",
    "sw = ds.toa_sw_all_clim\n",
    "sw_avg = sw.mean(dim='month')"
   ]
  },
  {
   "cell_type": "markdown",
   "id": "9e34c787-4361-40f0-ad18-50888f6b2763",
   "metadata": {},
   "source": [
    "Let's inspect `sw_avg`."
   ]
  },
  {
   "cell_type": "code",
   "execution_count": null,
   "id": "068c48cd-720b-4ee9-b853-67dbcc5c6433",
   "metadata": {},
   "outputs": [],
   "source": [
    "sw_avg"
   ]
  },
  {
   "cell_type": "markdown",
   "id": "0efb0d27-1bf1-4a4c-af9e-ab010016e64a",
   "metadata": {},
   "source": [
    "So `sw_avg` is a 2-dimensional array of dimensions [lat, lon]. Note that the month dimension has disappeared.\n",
    "\n",
    "When we applied the `mean()` function, we added an argument (called a **keyword argument**): `dim='month'`. With this argument, we told the function to compute the average *over the month dimension* (so the result no longer has a month dimension).\n",
    "\n",
    "Let's remove this keyword and compute the mean again:"
   ]
  },
  {
   "cell_type": "code",
   "execution_count": null,
   "id": "03547782-a712-4766-89de-6a74f6b9353a",
   "metadata": {},
   "outputs": [],
   "source": [
    "sw.mean()"
   ]
  },
  {
   "cell_type": "markdown",
   "id": "7ed0203f-58f5-492d-b1ac-4ae39823567c",
   "metadata": {},
   "source": [
    "Ha! We now have an array without dimensions: a single element array, also called a **scalar**. This is the total average over all the dimensions. We'll come back to this later.\n",
    "\n",
    "*Note: scalar output is quite verbose in xarray. You can print simpler scalars on screen with the .item() method:*"
   ]
  },
  {
   "cell_type": "code",
   "execution_count": null,
   "id": "2fad3adc-f1be-4338-ba2d-fa5384f088a8",
   "metadata": {},
   "outputs": [],
   "source": [
    "sw.mean().item()"
   ]
  },
  {
   "cell_type": "markdown",
   "id": "4d46452b-c2ea-4c08-8f41-5821cfa57b2a",
   "metadata": {
    "tags": []
   },
   "source": [
    "#### *Exercise:* \n",
    "Based on what is shown above, which of the following are the same?\n",
    "- `ds.toa_sw_all_clim`\n",
    "- `ds.toa_sw_clr_c_clim`\n",
    "- `ds.toa_sw_all_clim.mean(dim=‘month’)`\n",
    "- `sw`\n",
    "- `sw_avg`"
   ]
  },
  {
   "cell_type": "markdown",
   "id": "71989519-cdaa-4360-a790-3c894c0183c2",
   "metadata": {},
   "source": [
    "*(...your response here...)*"
   ]
  },
  {
   "cell_type": "markdown",
   "id": "7bbebdfe-4992-40ab-8614-b9929efca0c1",
   "metadata": {
    "tags": []
   },
   "source": [
    "#### *Exercise*:\n",
    "What should we expect from the following commands?\n",
    "\n",
    "    sw.mean(dim='lon')\n",
    "    sw.mean(dim='month').mean(dim='lon')\n",
    "    sw.mean(dim=['month', 'lon'])\n",
    "\n",
    "Discuss with your partner and then write code to check."
   ]
  },
  {
   "cell_type": "code",
   "execution_count": null,
   "id": "0f4515e8-9854-4551-b09e-91bd286923ee",
   "metadata": {},
   "outputs": [],
   "source": [
    "## [your code here]"
   ]
  },
  {
   "cell_type": "markdown",
   "id": "fb75b7d4-9a78-481e-98eb-dd497af39a6a",
   "metadata": {
    "tags": []
   },
   "source": [
    "#### *Exercise*:\n",
    "Compute the maximum and minimum values of top-of-atmosphere outgoing shortwave radiation. ([hint](http://xarray.pydata.org/en/stable/generated/xarray.DataArray.min.html))"
   ]
  },
  {
   "cell_type": "code",
   "execution_count": null,
   "id": "68c87d32-5a2e-4e3d-8c1b-e73289ffbec2",
   "metadata": {},
   "outputs": [],
   "source": [
    "## [your code here]"
   ]
  },
  {
   "cell_type": "markdown",
   "id": "97b08782-d30b-42b0-9236-80d29cb6fc83",
   "metadata": {},
   "source": [
    "***\n",
    "### 3. Global plots"
   ]
  },
  {
   "cell_type": "markdown",
   "id": "aeaa42e9-88df-4ff0-b101-7440ec1fabab",
   "metadata": {},
   "source": [
    "### Spatial data\n",
    "We are now going to use xarray's built-in `.plot` capability to plot the time-averaged Top of Atmosphere Shortwave Flux on a map:"
   ]
  },
  {
   "cell_type": "code",
   "execution_count": null,
   "id": "d8907e9c-ed37-406b-b4e2-d4978cf7782c",
   "metadata": {
    "scrolled": true
   },
   "outputs": [],
   "source": [
    "## Define the map projection (how is the spherical Earth transformed to 2D view)\n",
    "ax = plt.axes(projection=ccrs.EqualEarth())\n",
    "## ax is an empty Matplotlib plot. We now plot the relevant variable onto ax, using xarray\n",
    "ds.toa_sw_all_clim.mean(dim='month').plot(ax=ax, transform=ccrs.PlateCarree()) \n",
    "#sw_avg.mean(dim='month').plot(ax=ax, transform=ccrs.PlateCarree()) ## Note that we can use the named variable we set up above\n",
    "## the keyword \"transform\" tells the function in which projection the data is stored \n",
    "ax.coastlines(); ax.gridlines(); # Add gridlines and coastlines to the plot"
   ]
  },
  {
   "cell_type": "markdown",
   "id": "77dd7365-d7f8-47c4-935f-095381d19f33",
   "metadata": {},
   "source": [
    "We are looking at the average TOA outgoing shorwage flux, expressed in W m$^{-2}$. Such time averages are often writen with a bar on top of them:\n",
    "\n",
    "$\\overline{SW_{TOA}} = temporal\\_mean(SW_{TOA})$"
   ]
  },
  {
   "cell_type": "markdown",
   "id": "7298e533-9315-4cc2-b26f-e58a2cb6c128",
   "metadata": {},
   "source": [
    "### Plotting 1D (zonal) averages"
   ]
  },
  {
   "cell_type": "markdown",
   "id": "6027c24e-3b48-445c-bd38-c56d8722743a",
   "metadata": {},
   "source": [
    "Xarray will also easily plot 1d data. In this case, we are going to compute the zonal average of `sw_avg`. \"Zonal average\" means \"along a latitude circle\". It is often writen with `[]` or `<>` in formulas:\n",
    "\n",
    "$\\left[ \\overline{SW_{TOA}} \\right] = zonal\\_mean(temporal\\_mean(SW_{TOA}))$\n",
    "\n",
    "Note that the two operators are commutative, so you can take the average in either order:\n",
    "\n",
    "$\\left[ \\overline{SW_{TOA}} \\right] = \\overline{\\left[ SW_{TOA} \\right]}$\n",
    "\n",
    "With xarray, we can compute an average and plot it immediately, in one line of code:"
   ]
  },
  {
   "cell_type": "code",
   "execution_count": null,
   "id": "0f21910f-2689-466d-93f2-6dd5ebb30533",
   "metadata": {},
   "outputs": [],
   "source": [
    "sw_avg.mean(dim='lon').plot();"
   ]
  },
  {
   "cell_type": "markdown",
   "id": "902dfb13-deaf-4840-9571-7d2505b83ac3",
   "metadata": {},
   "source": [
    "#### *Exercise*:\n",
    "Interpret the global plots.  Where are the highest and lowest values found?  Why do you think they are where they are?"
   ]
  },
  {
   "cell_type": "markdown",
   "id": "6d2e8bbd-2a07-46b3-85d2-e21315e9c0bb",
   "metadata": {},
   "source": [
    "*(...your interpretation here...)*"
   ]
  },
  {
   "cell_type": "markdown",
   "id": "09b9e6cd-ac52-4b74-ab28-0de3b811ac27",
   "metadata": {},
   "source": [
    "***\n",
    "### 4. Closer inspection: the `sel` command"
   ]
  },
  {
   "cell_type": "markdown",
   "id": "5b3e6e56-2361-4564-84b0-900be2f92468",
   "metadata": {},
   "source": [
    "We have seen that taking a mean over one dimension reduces our data to 1D, as in the zonal average above.  Another common task to narrow down our data is selecting a slice of interest.  For example, we might want to inspect January values only.\n",
    "\n",
    "Xarray can select slices along a particular dimension using the built-in `sel` function."
   ]
  },
  {
   "cell_type": "code",
   "execution_count": null,
   "id": "728c84c8-2e95-4e43-8843-54a5b1e1efb1",
   "metadata": {},
   "outputs": [],
   "source": [
    "sw_jan = sw.sel(month=1)\n",
    "sw_jan.plot()"
   ]
  },
  {
   "cell_type": "markdown",
   "id": "bb89c2be-3b63-4d0f-be13-620417f036fd",
   "metadata": {},
   "source": [
    "#### *Exercise*:\n",
    "Use `sel` to select and plot the average outgoing shortwave radiation along a line of longitude that includes Greenland.  \n",
    "Greenland is located at 42.5 degrees West, or 317.5 degrees in the 0-to-360 longitude units of the CERES dataset."
   ]
  },
  {
   "cell_type": "code",
   "execution_count": null,
   "id": "06797eb1-a917-448c-a3fd-b91b36f654b9",
   "metadata": {},
   "outputs": [],
   "source": [
    "## your code here"
   ]
  },
  {
   "cell_type": "markdown",
   "id": "49030d02-b187-4bd7-8d3a-02298086c321",
   "metadata": {},
   "source": [
    "***\n",
    "### 5. Mathematical note: Arithmetic on a sphere\n",
    "If we want to compute something like a global average (the scalar computed in demo 2. above, for example) then we need to account for the fact that the Earth is spherical.  The area within each latitude-longitude grid box is largest at the equator and smallest at the poles.  That means that, in summing them all up to take an average, polar values will be over-represented and equatorial values will be under-represented.\n",
    "\n",
    "We can correct for this by assuming the Earth is a sphere -- it's not perfect, but close enough.  Then, we multiply each area by the cosine of its latitude.  This is a [weighted mean](https://docs.xarray.dev/en/latest/examples/area_weighted_temperature.html)."
   ]
  },
  {
   "cell_type": "markdown",
   "id": "6e5d99ed-2e92-4982-9f51-9f58338d5ee7",
   "metadata": {},
   "source": [
    "First, we make a weight array:"
   ]
  },
  {
   "cell_type": "code",
   "execution_count": null,
   "id": "17e2f4ab-84dd-4ab8-ab2c-e7a3e4bf8eb6",
   "metadata": {},
   "outputs": [],
   "source": [
    "weight = np.cos(np.deg2rad(ds.lat))\n",
    "weight = weight / weight.sum()"
   ]
  },
  {
   "cell_type": "code",
   "execution_count": null,
   "id": "a047d895-f964-42d6-8950-96106b9aa74e",
   "metadata": {},
   "outputs": [],
   "source": [
    "weight.plot();"
   ]
  },
  {
   "cell_type": "markdown",
   "id": "0a7e94d9-fe89-41e6-a568-03cbd64ea6ac",
   "metadata": {},
   "source": [
    "`weight` is an array of 180 elements, which is normalised so that its sum is 1. This is exactly what we need to compute a weighted average! Now, we have to average over the longitudes (another *zonal average*, because along a latitude circle all points have the same weight), and then multiply by the weights to compute the weighted average."
   ]
  },
  {
   "cell_type": "code",
   "execution_count": null,
   "id": "32216c80-8568-4da6-8866-f57079eb5315",
   "metadata": {},
   "outputs": [],
   "source": [
    "zonal_sw_avg = sw_avg.mean(dim='lon')  # important! Always average over longitudes first\n",
    "# this averaging is needed so that the arithmetic below makes sense \n",
    "# (multiply two arrays of 180 elements together)\n",
    "weighted_sw_avg = np.sum(zonal_sw_avg * weight)\n",
    "weighted_sw_avg.item()"
   ]
  },
  {
   "cell_type": "markdown",
   "id": "83ee82c8-fc1e-4df1-a951-ea575b33cbe0",
   "metadata": {},
   "source": [
    "If this seems like a pain to remember, I have good news for you: Xarray also has a built-in function to help with weighted averages."
   ]
  },
  {
   "cell_type": "code",
   "execution_count": null,
   "id": "da91c17c-b875-4cd1-a26a-e9f14020c00c",
   "metadata": {},
   "outputs": [],
   "source": [
    "sw_weighted = sw_avg.weighted(weight)\n",
    "sw_weighted"
   ]
  },
  {
   "cell_type": "code",
   "execution_count": null,
   "id": "3bf026a9-136d-4781-9cf2-fb62c558ad5e",
   "metadata": {},
   "outputs": [],
   "source": [
    "weighted_mean = sw_weighted.mean()\n",
    "weighted_mean"
   ]
  },
  {
   "cell_type": "markdown",
   "id": "7e3b08af-4c2b-4978-90ad-2070cf9933b0",
   "metadata": {},
   "source": [
    "#### *Exercise*:\n",
    "- Compute a weighted average of the incoming solar radiation.  \n",
    "- Compare it with the raw (unweighted) average of incoming solar radiation.  \n",
    "- Assess: Which is closer to the value shown in the literature ([Trenberth, Fasullo & Kiehl 2009](https://www2.cgd.ucar.edu/staff/trenbert/trenberth.papers/TFK_bams09.pdf), Figure 1)?"
   ]
  },
  {
   "cell_type": "code",
   "execution_count": null,
   "id": "eecbea9c-67e8-45e6-a03a-174a5b379bc6",
   "metadata": {},
   "outputs": [],
   "source": [
    "## your code here"
   ]
  },
  {
   "cell_type": "markdown",
   "id": "a9bb49a8-9a3d-4082-86e3-21d5b25b7512",
   "metadata": {},
   "source": [
    "***"
   ]
  },
  {
   "cell_type": "markdown",
   "id": "f27a37bc-a7c2-45d4-9e6b-4c1e26cc977a",
   "metadata": {},
   "source": [
    "## Part 2: Access and process the data"
   ]
  },
  {
   "cell_type": "markdown",
   "id": "4fe1a288-5f7e-4341-847b-c042f76405ce",
   "metadata": {},
   "source": [
    "### Lab Procedure\n",
    "1. Read and inspect the data.  Answer questions 1-3 on the paper lab sheet.\n",
    "2. Conduct a closer inspection with summary statistics.  Compute the mean of at least one component -- for simplicity choose outgoing longwave radiation. Determine whether it has the correct order of magnitude by comparing with the Trenberth, Fasullo, and Kiehl figure.\n",
    "3. Make global plots of each component (solar_clim, shortwave, longwave)\n",
    "4. Compute the **energy balance**: incoming (solar_clim) minus outgoing (shortwave and longwave).\n",
    "5. Address the science questions by:\n",
    "    - Computing the *area weighted average* of the energy balance\n",
    "    - Producing a global plot of net energy balance\n",
    "    - Producing two seasonally offset plots of net energy balance, selecting a specific month (e.g. months 1 and 7)"
   ]
  },
  {
   "cell_type": "code",
   "execution_count": null,
   "id": "30f3bba7-323c-4b08-a892-06f964622fab",
   "metadata": {},
   "outputs": [],
   "source": [
    "## Add cells of code and markdown as needed here to complete the lab"
   ]
  },
  {
   "cell_type": "code",
   "execution_count": null,
   "id": "dd69e1d2-9c3e-4bfa-8218-1d4ccd228077",
   "metadata": {},
   "outputs": [],
   "source": []
  },
  {
   "cell_type": "markdown",
   "id": "f03291eb-2c96-44fc-8c07-6d97bf4d278b",
   "metadata": {},
   "source": [
    "***\n",
    "### Endnotes\n",
    "- Data availability: You downloaded a copy of the data files stored on a remote server.  You can find the official source of the EBAF-TOA and the EBAF-Surface data products [on this webpage](https://ceres.larc.nasa.gov/data/)) as climatologies (i.e. monthly averages 2005-2015). The data quality summary of these data (PDF) can be found [here](https://ceres.larc.nasa.gov/documents/DQ_summaries/CERES_EBAF_Ed4.1_DQS.pdf), and more accessible publications can be found [here for TOA](https://journals.ametsoc.org/doi/pdf/10.1175/JCLI-D-17-0208.1) and [here for Surface](https://journals.ametsoc.org/doi/pdf/10.1175/JCLI-D-17-0523.1).\n",
    "- Development: The content of this lab is based on Fabien Maussion's Physics of the Climate System notebooks ([landing page](https://fabienmaussion.info/climate_system/welcome.html); [original notebook](https://fabienmaussion.info/climate_system/week_02/01_Lesson_NetCDF_Data.html)).\n",
    "- This lab was last updated by Lizz Ultee, 20 Feb 2024."
   ]
  }
 ],
 "metadata": {
  "kernelspec": {
   "display_name": "Python 3 (ipykernel)",
   "language": "python",
   "name": "python3"
  },
  "language_info": {
   "codemirror_mode": {
    "name": "ipython",
    "version": 3
   },
   "file_extension": ".py",
   "mimetype": "text/x-python",
   "name": "python",
   "nbconvert_exporter": "python",
   "pygments_lexer": "ipython3",
   "version": "3.9.10"
  }
 },
 "nbformat": 4,
 "nbformat_minor": 5
}
