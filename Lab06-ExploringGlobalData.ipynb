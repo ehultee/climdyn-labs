{
 "cells": [
  {
   "cell_type": "markdown",
   "id": "6366cc12",
   "metadata": {},
   "source": [
    "# Lab 6: Working with global data"
   ]
  },
  {
   "cell_type": "markdown",
   "id": "0eb540d7",
   "metadata": {},
   "source": [
    "The goal of this lab is to practice extracting useful information from publicly available datasets.  Here we are considering global atmospheric data, but you might also have large datasets from ice sheets, oceans, or geological observations.  It is useful to have some more refined techniques to visualize, process, and summarize information from these large datasets.\n",
    "\n",
    "Our science questions are *up to you*! You may choose from the following:\n",
    "- What regions of South America have the highest average annual evaporation?\n",
    "- Do oceans or land surfaces typically receive more precipitation?\n",
    "- In what month is Northern Hemisphere snow cover the highest?\n"
   ]
  },
  {
   "cell_type": "markdown",
   "id": "619ddb62-7a39-4a5b-844b-b986b299ba0f",
   "metadata": {},
   "source": [
    "---\n",
    "## Part 1. Demonstration & skills practice\n",
    "This will draw on several processing methods we have used before, with a few new tweaks."
   ]
  },
  {
   "cell_type": "markdown",
   "id": "c551fe76",
   "metadata": {},
   "source": [
    "### 1. Download & load in data  "
   ]
  },
  {
   "cell_type": "markdown",
   "id": "59a9d240",
   "metadata": {},
   "source": [
    "For the demo, download the global 2-meter air temperature dataset `ERA5_LowRes_Monthly_t2m.nc` from [this page](https://fabienmaussion.info/climate_system/download.html).  While you are there, download `ERA5_LowRes_Invariant.nc` -- we will use it later.\n",
    "\n",
    "Place both files in an easily accessible folder.  The cell below assumes you have them in a folder called `data` within the repo holding this Jupyter notebook.\n",
    "\n",
    "Import the packages we will use, and open the dataset."
   ]
  },
  {
   "cell_type": "code",
   "execution_count": null,
   "id": "2f720b5e",
   "metadata": {},
   "outputs": [],
   "source": [
    "# Import the tools we are going to need today:\n",
    "import matplotlib.pyplot as plt  # plotting library\n",
    "import numpy as np  # numerical library\n",
    "import xarray as xr  # netCDF library\n",
    "import cartopy  # Map projections libary\n",
    "import cartopy.crs as ccrs  # Projections list\n",
    "# Some defaults:\n",
    "plt.rcParams['figure.figsize'] = (12, 5)  # Default plot size"
   ]
  },
  {
   "cell_type": "code",
   "execution_count": null,
   "id": "4b263217",
   "metadata": {},
   "outputs": [],
   "source": [
    "ds = xr.open_dataset('./data/ERA5_LowRes_Monthly_t2m.nc')\n",
    "ds"
   ]
  },
  {
   "cell_type": "markdown",
   "id": "ad325d9a",
   "metadata": {},
   "source": [
    "#### A map plot of average air temperature"
   ]
  },
  {
   "cell_type": "markdown",
   "id": "6d9d2033",
   "metadata": {},
   "source": [
    "Let's compute the time average of the air temperature and plot it on a map, as we have done before."
   ]
  },
  {
   "cell_type": "code",
   "execution_count": null,
   "id": "a6a66907",
   "metadata": {},
   "outputs": [],
   "source": [
    "t2_tavg = ds.t2m.mean(dim='time')\n",
    "ax = plt.axes(projection=ccrs.Robinson())\n",
    "t2_tavg.plot(ax=ax, transform=ccrs.PlateCarree())\n",
    "ax.coastlines(); ax.gridlines();"
   ]
  },
  {
   "cell_type": "markdown",
   "id": "7afa5649",
   "metadata": {},
   "source": [
    "---\n",
    "### 2. Finer control on color maps"
   ]
  },
  {
   "cell_type": "markdown",
   "id": "6fde9841",
   "metadata": {},
   "source": [
    "Smooth (continuous) color maps like the above \"look nice\", but the human eye is not trained to see such small differences in color. For example, it would be quite difficult to tell the temperature of the Peruvian coast (above 280K? or below?). Sometimes, **discrete levels** are the way to go:  "
   ]
  },
  {
   "cell_type": "code",
   "execution_count": null,
   "id": "fcd08274",
   "metadata": {},
   "outputs": [],
   "source": [
    "ax = plt.axes(projection=ccrs.Robinson())\n",
    "t2_tavg.plot(ax=ax, transform=ccrs.PlateCarree(), levels=[240, 260, 280, 285, 290, 295, 300]) \n",
    "ax.coastlines(); ax.gridlines(); "
   ]
  },
  {
   "cell_type": "markdown",
   "id": "752064a3",
   "metadata": {},
   "source": [
    "We can define either the specific levels, as above, or a number of levels.  Let's explore how many levels are needed to display the data most effectively."
   ]
  },
  {
   "cell_type": "code",
   "execution_count": null,
   "id": "67b112ab",
   "metadata": {},
   "outputs": [],
   "source": [
    "# live code here"
   ]
  },
  {
   "cell_type": "markdown",
   "id": "ca0247e9",
   "metadata": {},
   "source": [
    "### Selecting color map settings"
   ]
  },
  {
   "cell_type": "markdown",
   "id": "0734ebac",
   "metadata": {},
   "source": [
    "Let's make a new variable called ``t2c_tavg``, which is ``t2_tavg`` converted to degrees celsius:"
   ]
  },
  {
   "cell_type": "code",
   "execution_count": null,
   "id": "4c4ea708",
   "metadata": {},
   "outputs": [],
   "source": [
    "t2c_tavg = t2_tavg - 273.15"
   ]
  },
  {
   "cell_type": "markdown",
   "id": "e36d3800",
   "metadata": {},
   "source": [
    "Copy the plotting code from above and use it to plot `t2c_tavg` instead of `t2_tavg`."
   ]
  },
  {
   "cell_type": "code",
   "execution_count": null,
   "id": "135993a5",
   "metadata": {},
   "outputs": [],
   "source": [
    "## live code here"
   ]
  },
  {
   "cell_type": "markdown",
   "id": "b33cbf56",
   "metadata": {},
   "source": [
    "What happened to the plot? Note the location of the 0 on the colorbar and the automated choice of a new colorscale. Note also that the data range is mostly dictated by very cold temperatures in Antarctica. The automated choices are a good first indication, but not always the most meaningful representation of the data. \n",
    "\n",
    "Let's see what happens with the below:"
   ]
  },
  {
   "cell_type": "code",
   "execution_count": null,
   "id": "4f400e2f",
   "metadata": {},
   "outputs": [],
   "source": [
    "ax = plt.axes(projection=ccrs.Robinson())\n",
    "t2c_tavg.plot(ax=ax, transform=ccrs.PlateCarree(), cmap='RdBu_r', center=False, \n",
    "              vmin=-40, vmax=20, levels=7, cbar_kwargs={'label': '°C'}) \n",
    "ax.set_title('Average annual 2m air temperature, ERA5 1979-2018')\n",
    "ax.coastlines(); ax.gridlines(); "
   ]
  },
  {
   "cell_type": "markdown",
   "id": "bf57fab8",
   "metadata": {},
   "source": [
    "A list of matplotlib's color tables can be found [here](http://www.matplotlib.org/examples/color/colormaps_reference.html). "
   ]
  },
  {
   "cell_type": "markdown",
   "id": "978fdd18",
   "metadata": {},
   "source": [
    "---\n",
    "## 3. Extracting time series"
   ]
  },
  {
   "cell_type": "markdown",
   "id": "abed8fef",
   "metadata": {},
   "source": [
    "Remember the selection methods we learned in Lab 2?  We can also use them for time series.  Let's first check the time period and sampling frequency of our data."
   ]
  },
  {
   "cell_type": "code",
   "execution_count": null,
   "id": "eb7ffcb6",
   "metadata": {},
   "outputs": [],
   "source": [
    "# Lizz to write live code here"
   ]
  },
  {
   "cell_type": "markdown",
   "id": "779eb9f3-d847-4ac6-9ec7-34400cc3f6a7",
   "metadata": {},
   "source": [
    "Let's define the variable `t2` for easy access to the temperature, and make a selection of a specific year."
   ]
  },
  {
   "cell_type": "code",
   "execution_count": null,
   "id": "fe4e044a",
   "metadata": {},
   "outputs": [],
   "source": [
    "t2 = ds.t2m\n",
    "t2.sel(time='2008')"
   ]
  },
  {
   "cell_type": "markdown",
   "id": "7922b6ab",
   "metadata": {},
   "source": [
    "The selection methods are very flexible.  **Make a prediction: what do you think each of the following commands will do?  Test them out and see.**\n",
    "- t2.sel(time='2008-02')\n",
    "- t2.sel(time='2008/02')\n",
    "- t2.sel(time=slice('2008', '2012'))"
   ]
  },
  {
   "cell_type": "code",
   "execution_count": null,
   "id": "6c0e7cf3",
   "metadata": {
    "tags": []
   },
   "outputs": [],
   "source": [
    "# Your answer here"
   ]
  },
  {
   "cell_type": "markdown",
   "id": "f92a14f5",
   "metadata": {},
   "source": [
    "### 3.1. Time series of globally averaged fields "
   ]
  },
  {
   "cell_type": "markdown",
   "id": "b96b8f21",
   "metadata": {},
   "source": [
    "Do you remember the average air temperature on Earth?  I know you do.  Let's extract a global average from this ERA5 data and compare it with our prior knowledge.\n",
    "\n",
    "Recall that to compute a global average on a sphere, we first need to weight the data by latitude (go back to [Lab 2](https://github.com/ehultee/climdyn-labs/blob/main/02-FM-NetCDF_Data.ipynb) if you need a refresher)."
   ]
  },
  {
   "cell_type": "code",
   "execution_count": null,
   "id": "23eb2f1b",
   "metadata": {},
   "outputs": [],
   "source": [
    "## Define the meridional weights\n",
    "weight = np.cos(np.deg2rad(ds.latitude))\n",
    "weight = weight / weight.sum()\n",
    "\n",
    "## Compute the zonal mean first\n",
    "zonal_mean_t2_c = t2.mean(dim='longitude') - 273.15  # convert into Celsius\n",
    "\n",
    "## Apply meridional weighting\n",
    "weighted_zonal_mean_t2_c = zonal_mean_t2_c * weight\n",
    "weighted_ts_t2_c = weighted_zonal_mean_t2_c.sum(dim='latitude')\n"
   ]
  },
  {
   "cell_type": "markdown",
   "id": "1ec6bd8a",
   "metadata": {},
   "source": [
    "Notice the second to last line in the cell above.  Although `zonal_mean_t2_c` is of dimensions (`time`, `latitude`), we successfully multiplied it by an array of dimension `latitude` only. This is called \"broadcasting\" in the numpy jargon. In general we need to be careful to match dimensions when we apply mathematical operations, but Xarray knows about the dimensions of your data (and their coordinates) and will always make arithmetic operations match these -- another good reason to use this package.\n",
    "\n",
    "Let's examine the average surface temperature over the time period of the data."
   ]
  },
  {
   "cell_type": "code",
   "execution_count": null,
   "id": "88d4f622",
   "metadata": {},
   "outputs": [],
   "source": [
    "weighted_ts_t2_c.plot();"
   ]
  },
  {
   "cell_type": "markdown",
   "id": "e5f65f19",
   "metadata": {},
   "source": [
    "Logically, the global average temperature on Earth would be: "
   ]
  },
  {
   "cell_type": "code",
   "execution_count": null,
   "id": "5911503a",
   "metadata": {},
   "outputs": [],
   "source": [
    "weighted_ts_t2_c.mean(dim='time')"
   ]
  },
  {
   "cell_type": "markdown",
   "id": "007034a3",
   "metadata": {},
   "source": [
    "**Q: Does the global average reflect what we discussed in previous weeks?**  \n",
    "Questions like these are called \"sanity checks\" and help us confirm our code is producing sensible answers."
   ]
  },
  {
   "cell_type": "markdown",
   "id": "3acfdcc2-8c9d-4f98-bebf-60af2f51639e",
   "metadata": {},
   "source": [
    "*...your answer here*"
   ]
  },
  {
   "cell_type": "markdown",
   "id": "a44bb48d",
   "metadata": {},
   "source": [
    "### 3.2. Resampling time series data"
   ]
  },
  {
   "cell_type": "markdown",
   "id": "1b703115",
   "metadata": {},
   "source": [
    "Resampling is the operation of changing the *sampling* of the data, i.e. the frequency at which it is sampled. One of the most meaningful ways to resample is to do an average, for example over each year:"
   ]
  },
  {
   "cell_type": "code",
   "execution_count": null,
   "id": "14a111d5",
   "metadata": {},
   "outputs": [],
   "source": [
    "tsa_t2_c = weighted_ts_t2_c.resample(time='AS').mean()"
   ]
  },
  {
   "cell_type": "code",
   "execution_count": null,
   "id": "b60a1e24-14ac-4b1c-957b-7b4108ffc35c",
   "metadata": {},
   "outputs": [],
   "source": [
    "tsa_t2_c.plot()"
   ]
  },
  {
   "cell_type": "markdown",
   "id": "ccdcb04d",
   "metadata": {},
   "source": [
    "Note that averaging is [not the only way](http://xarray.pydata.org/en/stable/generated/xarray.Dataset.resample.html) available to resample data. **Try ``.std()`` and  ``.max()``, too.**"
   ]
  },
  {
   "cell_type": "markdown",
   "id": "2f8ebe72",
   "metadata": {},
   "source": [
    "### 3.3. Computing a monthly climatography (or annual cycle)"
   ]
  },
  {
   "cell_type": "markdown",
   "id": "6a8320bd",
   "metadata": {},
   "source": [
    "Another way to look at time series data is to average them according to the time of year to study the annual cycle. This is done with the ``.groupby()`` method:"
   ]
  },
  {
   "cell_type": "code",
   "execution_count": null,
   "id": "81035b1d",
   "metadata": {},
   "outputs": [],
   "source": [
    "tsm_t2_c = weighted_ts_t2_c.groupby('time.month').mean()"
   ]
  },
  {
   "cell_type": "markdown",
   "id": "fb227ae9",
   "metadata": {},
   "source": [
    "Let's check that `tsm_t2_c` is what we think it is. What is the new dimension of the data? What does it look like when we plot it?"
   ]
  },
  {
   "cell_type": "code",
   "execution_count": null,
   "id": "6c06d947",
   "metadata": {},
   "outputs": [],
   "source": [
    "# Lizz to write live code here\n",
    "tsm_t2_c.plot()"
   ]
  },
  {
   "cell_type": "markdown",
   "id": "9fdf8089",
   "metadata": {},
   "source": [
    "### 3.4. Averages and anomalies "
   ]
  },
  {
   "cell_type": "markdown",
   "id": "c2348dff",
   "metadata": {},
   "source": [
    "Remember when you found the temperature anomaly of Middlebury observations compared with a long-term average?  We can decompose any time series $A(t)$ into a reference value (often the mean) $\\overline{A}$ and an anomaly $A'(t)$:\n",
    "\n",
    "$$A(t) = \\overline{A} + A'(t)$$\n",
    "\n",
    "Often the variable t is omitted from the notation, i.e. one writes $A = \\overline{A} + A'$."
   ]
  },
  {
   "cell_type": "markdown",
   "id": "d5329284",
   "metadata": {},
   "source": [
    "#### *Exercise:* \n",
    "Compute and plot the global mean temperature anomaly for the year 1997 with respect to the 1979-2018 average.\n",
    "This is a multi-step task; you and your partner may want to write out a plan on paper first."
   ]
  },
  {
   "cell_type": "code",
   "execution_count": null,
   "id": "99835d5c",
   "metadata": {},
   "outputs": [],
   "source": [
    "# your answer here"
   ]
  },
  {
   "cell_type": "markdown",
   "id": "fa105b92",
   "metadata": {},
   "source": [
    "---\n",
    "## 4. Selecting specific areas of our data"
   ]
  },
  {
   "cell_type": "markdown",
   "id": "807c9422",
   "metadata": {},
   "source": [
    "In the section above, we selected snapshots in time to generate time series.  We can also select spatial slices out of the data:"
   ]
  },
  {
   "cell_type": "code",
   "execution_count": null,
   "id": "bc344a5e",
   "metadata": {},
   "outputs": [],
   "source": [
    "t2_reg = t2_tavg.sel(longitude=slice(-40, 40))"
   ]
  },
  {
   "cell_type": "code",
   "execution_count": null,
   "id": "937d0bd7",
   "metadata": {},
   "outputs": [],
   "source": [
    "ax = plt.axes(projection=ccrs.PlateCarree()) # Note that I changed the projection\n",
    "t2_reg.plot(ax=ax, transform=ccrs.PlateCarree())\n",
    "ax.add_feature(cartopy.feature.BORDERS); # What do you think this command does? \n",
    "ax.coastlines();"
   ]
  },
  {
   "cell_type": "markdown",
   "id": "8a84e81d",
   "metadata": {},
   "source": [
    "#### Live coding together \n",
    "Create a new variable, `t2c_clipped`, which is a subset of `t2c_tavg` between the longitudes (-20, 60) and the latitudes (40, -40). Plot the result. (*note: yes, it is (40, -40) and not (-40, 40)*)"
   ]
  },
  {
   "cell_type": "code",
   "execution_count": null,
   "id": "835ebd5b",
   "metadata": {},
   "outputs": [],
   "source": [
    "# live code here\n",
    "t2c_clipped = ..."
   ]
  },
  {
   "cell_type": "markdown",
   "id": "c0538d13",
   "metadata": {},
   "source": [
    "### 4.1. Selection based on a condition: masking"
   ]
  },
  {
   "cell_type": "markdown",
   "id": "3c3714a4",
   "metadata": {},
   "source": [
    "What if we are interested into air temperature on land only, and want to remove the oceans from our analyses? For this we can use a technique called \"masking\".  We will load a file with the same spatial resolution as our data, but with the core purpose of identifying which areas are land and which are ocean. \n",
    "\n",
    "First, load in the \"Invariant\" data."
   ]
  },
  {
   "cell_type": "code",
   "execution_count": null,
   "id": "d29b8fde",
   "metadata": {},
   "outputs": [],
   "source": [
    "nc_inv = xr.open_dataset('./data/ERA5_LowRes_Invariant.nc')\n",
    "nc_inv"
   ]
  },
  {
   "cell_type": "markdown",
   "id": "2f730455",
   "metadata": {},
   "source": [
    "In the `lsm` (\"land-sea mask\") variable, \"1\" means land, \"0\" means ocean. We are going to use this information to exclude (\"mask out\") the values of our dataset over the ocean:"
   ]
  },
  {
   "cell_type": "code",
   "execution_count": null,
   "id": "803a5395",
   "metadata": {},
   "outputs": [],
   "source": [
    "masked_t2_avg = t2c_tavg.where(nc_inv.lsm > 0.5)"
   ]
  },
  {
   "cell_type": "code",
   "execution_count": null,
   "id": "47e48918",
   "metadata": {},
   "outputs": [],
   "source": [
    "## inspect on a map plot\n",
    "ax = plt.axes(projection=ccrs.Robinson())\n",
    "masked_t2_avg.plot(ax=ax, transform=ccrs.PlateCarree())\n",
    "ax.coastlines(); ax.gridlines();"
   ]
  },
  {
   "cell_type": "markdown",
   "id": "113cc7cb-840e-4a65-8b28-fc17f071056d",
   "metadata": {},
   "source": [
    "#### *Exercise*:\n",
    "Compute the **zonal average** of land surface temperature and plot it.  Your plot should have axes of temperature versus latitude.  Compare your plot with a zonal average of global (land and ocean) surface temperature."
   ]
  },
  {
   "cell_type": "markdown",
   "id": "a845b043-c11f-49f4-9d31-0c7541490689",
   "metadata": {},
   "source": [
    "---\n",
    "## Part 2: Exploring a new dataset"
   ]
  },
  {
   "cell_type": "markdown",
   "id": "a68c6ec3-f57f-4f9f-bd53-0759533bc0bd",
   "metadata": {
    "tags": []
   },
   "source": [
    "### Lab Procedure\n",
    "Choose one of the science questions above.  Choose the appropriate dataset to address your question from the pre-processed \"Monthly surface (3D)\" ERA5 datasets linked on [this page](https://fabienmaussion.info/climate_system/download.html) and download it.  With your partner, make a plan to explore this dataset.  You might want to draft your plan on paper before starting to code.  \n",
    "\n",
    "At minimum, the code and text you write below should allow you to:\n",
    "1. Search the internet for basic information about the data source.  Answer the following questions:\n",
    "    - What is ERA5? \n",
    "    - What institution provides the data? \n",
    "    - What time period is it available for?  \n",
    "2. Load in the dataset; identify what variable(s) are included and their physical meaning.\n",
    "    - What are the dimensions of the variables?\n",
    "    - What is the spatial resolution of this dataset?\n",
    "    - What is its temporal resolution?\n",
    "    - What is the data type of the various variables and coordinates available in the dataset? What are the differences between each data type?\n",
    "3. Perform a \"sanity check\" to confirm the data have loaded in correctly.\n",
    "    - Consider making a plot, computing average/max/min values, time slices, etc.\n",
    "4. Use an appropriate technique (global plot, regional plot, monthly climatology, selecting or averaging over certain dimensions) to address your science question.\n",
    "5. Write text directly responding to the science question based on your analysis.\n",
    "6. Time allowing: propose another science question that could be investigated with your dataset.\n",
    "\n",
    "Remember to include **text cells describing the approach and interpretation**, and **comments in the code** to aid readability."
   ]
  },
  {
   "cell_type": "code",
   "execution_count": null,
   "id": "30f3bba7-323c-4b08-a892-06f964622fab",
   "metadata": {},
   "outputs": [],
   "source": [
    "## Add cells of code and markdown as needed here to complete the lab"
   ]
  },
  {
   "cell_type": "markdown",
   "id": "7c8cf4a1-fcbc-4136-8093-143a177b0a29",
   "metadata": {},
   "source": [
    "---\n",
    "## Endnotes\n",
    "- ERA5 is a reanalysis product.  Learn more about reanalysis [here](https://www.ecmwf.int/en/research/climate-reanalysis).\n",
    "- You may find the xarray documentation (...link...) useful\n",
    "- This notebook is heavily based on Fabien Maussion's [Physics of the Climate System notebooks](https://fabienmaussion.info/climate_system/week_03/01_Lesson_MoreDataCrunching.html)\n",
    "- Last update: 25 Mar 2024, Lizz Ultee"
   ]
  },
  {
   "cell_type": "markdown",
   "id": "4e95b86c",
   "metadata": {},
   "source": [
    "---\n",
    "### Bonus method: quick data inspection with `imshow`"
   ]
  },
  {
   "cell_type": "markdown",
   "id": "ee9405aa",
   "metadata": {},
   "source": [
    "xarray's `.plot` method internally uses matplotlib's [pcolormesh](https://matplotlib.org/stable/api/_as_gen/matplotlib.pyplot.pcolormesh.html) which, for reasons too long to explain here, is the more accurate way to represent gridded data on a map. If you have a big dataset and you are willing to sacrifice some accuracy to see it faster, you can also use [imshow](https://matplotlib.org/stable/api/_as_gen/matplotlib.pyplot.imshow.html):"
   ]
  },
  {
   "cell_type": "code",
   "execution_count": null,
   "id": "14e23838",
   "metadata": {},
   "outputs": [],
   "source": [
    "t2_tavg = ds.t2m.mean(dim='time')\n",
    "ax = plt.axes(projection=ccrs.Robinson())\n",
    "t2_tavg.plot.imshow(ax=ax, transform=ccrs.PlateCarree())\n",
    "ax.coastlines(); ax.gridlines();"
   ]
  },
  {
   "cell_type": "markdown",
   "id": "393832cb",
   "metadata": {},
   "source": [
    "This plot should render about 4 times faster than the default plot, which is useful for data exploration. It should not be used for final rendering or for regional plots, though."
   ]
  },
  {
   "cell_type": "code",
   "execution_count": null,
   "id": "363cba16-444d-44e2-99af-03930fae2abb",
   "metadata": {},
   "outputs": [],
   "source": []
  }
 ],
 "metadata": {
  "kernelspec": {
   "display_name": "Python 3 (ipykernel)",
   "language": "python",
   "name": "python3"
  },
  "language_info": {
   "codemirror_mode": {
    "name": "ipython",
    "version": 3
   },
   "file_extension": ".py",
   "mimetype": "text/x-python",
   "name": "python",
   "nbconvert_exporter": "python",
   "pygments_lexer": "ipython3",
   "version": "3.9.10"
  }
 },
 "nbformat": 4,
 "nbformat_minor": 5
}
